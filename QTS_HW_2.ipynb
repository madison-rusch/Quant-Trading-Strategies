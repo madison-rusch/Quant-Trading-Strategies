{
 "cells": [
  {
   "attachments": {},
   "cell_type": "markdown",
   "metadata": {},
   "source": [
    "THOMAS MCDONNELL QUANT TRADING STRATEGIES HW 2"
   ]
  },
  {
   "cell_type": "code",
   "execution_count": 3,
   "metadata": {},
   "outputs": [],
   "source": [
    "import matplotlib.pyplot as plt\n",
    "import pandas as pd\n",
    "import numpy as np\n",
    "import scipy as sp\n",
    "import quandl\n",
    "import functools\n",
    "import seaborn as sns\n",
    "import plotnine as p9\n",
    "from datetime import datetime\n",
    "from datetime import timedelta\n",
    "\n",
    "\n",
    "import warnings\n",
    "\n",
    "# Suppress the warning\n",
    "warnings.filterwarnings(\"ignore\")"
   ]
  },
  {
   "cell_type": "code",
   "execution_count": 4,
   "metadata": {},
   "outputs": [
    {
     "data": {
      "text/html": [
       "<div>\n",
       "<style scoped>\n",
       "    .dataframe tbody tr th:only-of-type {\n",
       "        vertical-align: middle;\n",
       "    }\n",
       "\n",
       "    .dataframe tbody tr th {\n",
       "        vertical-align: top;\n",
       "    }\n",
       "\n",
       "    .dataframe thead th {\n",
       "        text-align: right;\n",
       "    }\n",
       "</style>\n",
       "<table border=\"1\" class=\"dataframe\">\n",
       "  <thead>\n",
       "    <tr style=\"text-align: right;\">\n",
       "      <th></th>\n",
       "      <th>Not Found</th>\n",
       "    </tr>\n",
       "  </thead>\n",
       "  <tbody>\n",
       "  </tbody>\n",
       "</table>\n",
       "</div>"
      ],
      "text/plain": [
       "Empty DataFrame\n",
       "Columns: [Not Found]\n",
       "Index: []"
      ]
     },
     "execution_count": 4,
     "metadata": {},
     "output_type": "execute_result"
    }
   ],
   "source": [
    "@functools.lru_cache(maxsize=16)\n",
    "def fetch_quandl(my_data_items, trim_start=None, trim_end=None):\n",
    "    qdata = quandl.get(list(my_data_items), returns=\"pandas\", \n",
    "                      trim_start=trim_start, trim_end=trim_end,\n",
    "                      api_key= 'uoxc6V3s61czWuHoGLcs')\n",
    "    return qdata\n",
    "def clean_quandl_columns(dataframe):\n",
    "    replacement_columns = {}\n",
    "    for c in dataframe.columns:\n",
    "        series_name, variable = c.split(' - ')\n",
    "        source_name, asset = series_name.split('/')\n",
    "        replacement_columns[c] = variable\n",
    "    renamed_data = dataframe.rename(columns=replacement_columns)\n",
    "    return renamed_data\n"
   ]
  },
  {
   "cell_type": "code",
   "execution_count": null,
   "metadata": {},
   "outputs": [],
   "source": [
    "PXJ = quandl.get_table('QUOTEMEDIA/PRICES', date = { 'gte': '2020-12-02', 'lte':  '2022-11-15'}, ticker='PXJ')\n",
    "\n",
    "OIH = quandl.get_table('QUOTEMEDIA/PRICES', date = { 'gte': '2020-12-02', 'lte':  '2022-11-15'}, ticker='OIH')"
   ]
  },
  {
   "cell_type": "code",
   "execution_count": 14,
   "metadata": {},
   "outputs": [
    {
     "ename": "AttributeError",
     "evalue": "'int' object has no attribute 'day'",
     "output_type": "error",
     "traceback": [
      "\u001b[0;31m---------------------------------------------------------------------------\u001b[0m",
      "\u001b[0;31mAttributeError\u001b[0m                            Traceback (most recent call last)",
      "Cell \u001b[0;32mIn [14], line 31\u001b[0m\n\u001b[1;32m     27\u001b[0m position \u001b[39m=\u001b[39m \u001b[39mNone\u001b[39;00m  \u001b[39m# 'long' or 'short'\u001b[39;00m\n\u001b[1;32m     29\u001b[0m \u001b[39mfor\u001b[39;00m date, return_x, return_y \u001b[39min\u001b[39;00m \u001b[39mzip\u001b[39m(prices_x\u001b[39m.\u001b[39mindex, returns_x, returns_y):\n\u001b[1;32m     30\u001b[0m     \u001b[39m# check if we're at the first day of the month\u001b[39;00m\n\u001b[0;32m---> 31\u001b[0m     \u001b[39mif\u001b[39;00m date\u001b[39m.\u001b[39;49mday \u001b[39m==\u001b[39m \u001b[39m1\u001b[39m:\n\u001b[1;32m     32\u001b[0m         \u001b[39m# check if we need to enter or maintain a position\u001b[39;00m\n\u001b[1;32m     33\u001b[0m         \u001b[39mif\u001b[39;00m (return_x \u001b[39m-\u001b[39m return_y \u001b[39m>\u001b[39m g) \u001b[39mand\u001b[39;00m (position \u001b[39m!=\u001b[39m \u001b[39m'\u001b[39m\u001b[39mshort\u001b[39m\u001b[39m'\u001b[39m):\n\u001b[1;32m     34\u001b[0m             \u001b[39m# calculate number of shares to trade\u001b[39;00m\n\u001b[1;32m     35\u001b[0m             shares_x \u001b[39m=\u001b[39m \u001b[39mint\u001b[39m(nt[date] \u001b[39m/\u001b[39m \u001b[39m100\u001b[39m)\n",
      "\u001b[0;31mAttributeError\u001b[0m: 'int' object has no attribute 'day'"
     ]
    }
   ],
   "source": [
    "\n",
    "\n",
    "# load data for ETFs X and Y\n",
    "prices_x = PXJ\n",
    "prices_y = OIH\n",
    "\n",
    "prices_x['date'] = pd.to_datetime(prices_x['date'])\n",
    "prices_y['date'] = pd.to_datetime(prices_y['date'])\n",
    "\n",
    "\n",
    "# set parameters for strategy\n",
    "m = 20  # number of days for return calculation\n",
    "g = 0.05  # threshold for entering a position\n",
    "j = 0.03  # threshold for flattening a position\n",
    "s = 0.03  # stop loss threshold\n",
    "\n",
    "# calculate Nt as running median of daily dollar volume for ETF X\n",
    "nt = prices_x['volume'].rolling(15).median()\n",
    "\n",
    "# calculate daily returns for ETFs X and Y\n",
    "returns_x = prices_x['close'].pct_change(m)\n",
    "returns_y = prices_y['close'].pct_change(m)\n",
    "\n",
    "# initialize variables to track PnL and position\n",
    "pnl = 0\n",
    "position = None  # 'long' or 'short'\n",
    "\n",
    "for date, return_x, return_y in zip(prices_x.index, returns_x, returns_y):\n",
    "    # check if we're at the first day of the month\n",
    "    if date.day == 1:\n",
    "        # check if we need to enter or maintain a position\n",
    "        if (return_x - return_y > g) and (position != 'short'):\n",
    "            # calculate number of shares to trade\n",
    "            shares_x = int(nt[date] / 100)\n",
    "            shares_y = int(nt[date] / 100)\n",
    "            # calculate gross traded cash\n",
    "            gross_cash = 2 * nt[date] / 100\n",
    "            # update position and PnL\n",
    "            position = 'short'\n",
    "            pnl -= shares_x * prices_x.loc[date, 'close']\n",
    "            pnl += shares_y * prices_y.loc[date, 'close']\n",
    "        elif (return_x - return_y < -g) and (position != 'long'):\n",
    "            # calculate number of shares to trade\n",
    "            shares_x = int(nt[date] / 100)\n",
    "            shares_y = int(nt[date] / 100)\n",
    "            # calculate gross traded cash\n",
    "            gross_cash = 2 * nt[date] / 100\n",
    "            # update position and PnL\n",
    "            position = 'long'\n",
    "            pnl += shares_x * prices_x.loc[date, 'close']\n",
    "            pnl -= shares_y * prices_y.loc[date, 'close']\n",
    "        elif (return_x - return_y > -j) and (return_x - return_y < j):\n",
    "            # flatten position\n",
    "            if position == 'long':\n",
    "                pnl -= shares_x * prices_x.loc[date, 'close']\n",
    "                pnl += shares_y * prices_y.loc[date, 'close']\n",
    "            elif position == 'short':\n",
    "                pnl += shares_x * prices_x.loc[date, 'close']\n",
    "                pnl -= shares_y * prices_y.loc[date, 'close']\n",
    "            position = None\n",
    "        # check for stop loss\n",
    "        # check for stop loss\n",
    "        if position and (pnl < -s * gross_cash):\n",
    "            # force exit at current prices\n",
    "            if position == 'long':\n",
    "                pnl -= shares_x * prices_x.loc[date, 'close']\n",
    "                pnl += shares_y * prices_y.loc[date, 'close']\n",
    "            elif position == 'short':\n",
    "                pnl += shares_x * prices_x.loc[date, 'close']\n",
    "                pnl -= shares_y * prices_y.loc[date, 'close']\n",
    "            position = None\n",
    "    # update cumulative PnL\n",
    "    cumulative_pnl = pnl\n",
    "\n",
    "# force a position close at the end of the analysis period\n",
    "if position == 'long':\n",
    "    pnl -= shares_x * prices_x.loc[date, 'close']\n",
    "    pnl += shares_y * prices_y.loc[date, 'close']\n",
    "elif position == 'short':\n",
    "    pnl += shares_x * prices_x.loc[date, 'close']\n",
    "    pnl -= shares_y * prices_y.loc[date, 'close']\n",
    "position = None\n",
    "\n",
    "# set capital for strategy\n",
    "capital = 2 * nt.max()\n",
    "\n",
    "# calculate return on capital\n",
    "return_on_capital = pnl / capital\n",
    "            \n"
   ]
  }
 ],
 "metadata": {
  "kernelspec": {
   "display_name": "Python 3",
   "language": "python",
   "name": "python3"
  },
  "language_info": {
   "codemirror_mode": {
    "name": "ipython",
    "version": 3
   },
   "file_extension": ".py",
   "mimetype": "text/x-python",
   "name": "python",
   "nbconvert_exporter": "python",
   "pygments_lexer": "ipython3",
   "version": "3.9.5"
  },
  "orig_nbformat": 4,
  "vscode": {
   "interpreter": {
    "hash": "aee8b7b246df8f9039afb4144a1f6fd8d2ca17a180786b69acc140d282b71a49"
   }
  }
 },
 "nbformat": 4,
 "nbformat_minor": 2
}
