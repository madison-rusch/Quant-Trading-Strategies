{
 "cells": [
  {
   "attachments": {},
   "cell_type": "markdown",
   "metadata": {},
   "source": [
    "# THOMAS MCDONNELL QTS HOMEWORK 6: PREDICTIVE REGRESSION"
   ]
  },
  {
   "cell_type": "code",
   "execution_count": 185,
   "metadata": {},
   "outputs": [],
   "source": [
    "import matplotlib.pyplot as plt\n",
    "import pandas as pd\n",
    "import numpy as np\n",
    "import scipy as sp\n",
    "import quandl\n",
    "from datetime import datetime\n",
    "from datetime import timedelta\n",
    "from tqdm import tqdm\n",
    "from pandas import DateOffset\n",
    "import statsmodels.api as sm\n",
    "from statsmodels.regression.rolling import RollingOLS\n",
    "import warnings\n",
    "import statsmodels.regression.linear_model as linreg\n",
    "# Suppress the warning\n",
    "warnings.filterwarnings(\"ignore\")"
   ]
  },
  {
   "cell_type": "code",
   "execution_count": 186,
   "metadata": {},
   "outputs": [],
   "source": [
    "#boxcar regression function\n",
    "def boxcar_5_reg(_df, x, y):\n",
    "    _p = linreg.OLS(_df[x], _df[y]).fit(params_only=True).params\n",
    "    return pd.DataFrame(data=[_p], index=[_df.index[-1]])"
   ]
  },
  {
   "cell_type": "code",
   "execution_count": 187,
   "metadata": {},
   "outputs": [],
   "source": [
    "# data = pd.read_table(\"C:/Users/thoma/Downloads/Liq5YCDS.delim\")\n",
    "data = pd.read_table('/Users/tmac/Downloads/Liq5YCDS.delim')\n",
    "tickers = data['ticker'].unique().tolist()\n",
    "cds = pd.pivot_table(data, values = 'parspread', index = 'date', columns= 'ticker')\n",
    "cds = cds.fillna(0)\n",
    "cds.index = pd.to_datetime(cds.index)\n",
    "cds = cds.resample('W-WED').ffill()"
   ]
  },
  {
   "cell_type": "code",
   "execution_count": 188,
   "metadata": {},
   "outputs": [],
   "source": [
    "#get EOD price data\n",
    "eod_price = pd.DataFrame()\n",
    "for ticker in (tickers):\n",
    "    df =  quandl.get_table('QUOTEMEDIA/PRICES', ticker = [ticker], api_key = 'uoxc6V3s61czWuHoGLcs',\n",
    "                    qopts = { 'columns': ['date', 'adj_close'] }, \n",
    "                    date = { 'gte': '2018-01-01', 'lte': '2023-01-01' }, \n",
    "                     paginate=True)\n",
    "    df = df.rename(columns = {'adj_close': ticker})\n",
    "    if ticker == 'BA':\n",
    "        eod_price = eod_price.append(df)\n",
    "    else:\n",
    "        eod_price = eod_price.merge(df, on = 'date')\n",
    "eod_price = eod_price.set_index('date')\n",
    "\n",
    "eod_price = eod_price.resample('W-WED').ffill()"
   ]
  },
  {
   "cell_type": "code",
   "execution_count": 189,
   "metadata": {},
   "outputs": [],
   "source": [
    "#Get SPY data\n",
    "m = quandl.get_table('QUOTEMEDIA/PRICES', ticker = 'SPY', api_key = 'uoxc6V3s61czWuHoGLcs',\n",
    "                    qopts = { 'columns': ['date', 'adj_close'] }, \n",
    "                    date = { 'gte': '2018-01-01', 'lte': '2023-01-01' }, \n",
    "                     paginate=True)\n",
    "m = m.set_index('date')\n",
    "m = m.resample(\"W-WED\").ffill()\n",
    "m = m.diff().div(m.shift(1)).shift(-1).iloc[:-1]"
   ]
  },
  {
   "cell_type": "code",
   "execution_count": 190,
   "metadata": {},
   "outputs": [],
   "source": [
    "# get return data\n",
    "r_cds = cds.diff().div(cds.shift(1)).shift(-1).iloc[:-1]\n",
    "r_equity = eod_price.diff().div(eod_price.shift(1)).shift(-1).iloc[:-1]\n",
    "r_index = r_cds.mean(axis = 1).to_frame()\n"
   ]
  },
  {
   "cell_type": "code",
   "execution_count": 191,
   "metadata": {},
   "outputs": [],
   "source": [
    "#dictionary of dataframes with data for each ticker needed for regressions\n",
    "df_dict = {}\n",
    "for ticker in tickers:\n",
    "    df = pd.DataFrame(index = r_cds.index)\n",
    "    df['r_equity'] = r_equity[ticker]\n",
    "    df['r_cds'] = r_cds[ticker]\n",
    "    df['r_index'] = r_index\n",
    "    df['m'] = m\n",
    "    df.replace([np.inf, -np.inf], 0, inplace = True)\n",
    "    df_dict[ticker] = df"
   ]
  },
  {
   "cell_type": "code",
   "execution_count": 192,
   "metadata": {},
   "outputs": [],
   "source": [
    "#dictionary of dataframes of model parameters for each ticker\n",
    "model_1_dict = {}\n",
    "for ticker in tickers:\n",
    "    mod = pd.concat([boxcar_5_reg(df_dict[ticker].iloc[i-16:i], 'r_cds', ['r_equity', 'r_index'] ) for i in range(16, df_dict[ticker].shape[0])])\n",
    "    model_1_dict[ticker] = mod"
   ]
  },
  {
   "cell_type": "code",
   "execution_count": 193,
   "metadata": {},
   "outputs": [],
   "source": [
    "#dictionary of dataframes of capm model parameters for each ticker\n",
    "capm_dict = {}\n",
    "for ticker in tickers:\n",
    "    mod = pd.concat([boxcar_5_reg(df_dict[ticker].iloc[i-16:i], 'r_equity', 'm' ) for i in range(16, df_dict[ticker].shape[0])])\n",
    "    capm_dict[ticker] = mod"
   ]
  },
  {
   "cell_type": "code",
   "execution_count": 194,
   "metadata": {},
   "outputs": [],
   "source": [
    "#dictionary of dataframes for predicted returns for each ticker given our parameters\n",
    "predicted_returns_1 = {}\n",
    "predicted_returns_capm = {}\n",
    "for ticker in tickers:\n",
    "    b = model_1_dict[ticker][['r_equity', 'r_index']]\n",
    "    r = df_dict[ticker][['r_equity', 'r_index']]\n",
    "    dat = pd.DataFrame()\n",
    "    dat['rets'] = (b['r_equity']*r['r_equity']) + (b['r_index']*r['r_index'])\n",
    "    dat.index.name = 'date'\n",
    "    predicted_returns_1[ticker] = dat[['rets']]\n",
    "\n",
    "    x = capm_dict[ticker]\n",
    "    mark = df_dict[ticker][['m']]\n",
    "    d = pd.DataFrame()\n",
    "    d['rets'] = x['m'] * mark['m']\n",
    "    d.index.name = 'date'\n",
    "    predicted_returns_capm[ticker] = d[['rets']]\n",
    "\n"
   ]
  },
  {
   "cell_type": "code",
   "execution_count": 195,
   "metadata": {},
   "outputs": [],
   "source": [
    "#residuals for model 1\n",
    "residual_dict_1 = {}\n",
    "for ticker in tickers:\n",
    "    preds = predicted_returns_1[ticker]\n",
    "    \n",
    "    x = df_dict[ticker][['r_cds']].reindex(preds.index)\n",
    "    da = pd.merge(preds, x, on = preds.index).set_index('key_0')\n",
    "    da.index.name = 'date'\n",
    "    res = da['r_cds'] - da['rets']\n",
    "    residual_dict_1[ticker] = res.to_frame()"
   ]
  },
  {
   "cell_type": "code",
   "execution_count": 196,
   "metadata": {},
   "outputs": [],
   "source": [
    "#equity residuals using capm\n",
    "residual_dict_capm = {}\n",
    "for ticker in tickers:\n",
    "    preds = predicted_returns_capm[ticker]\n",
    "    x = df_dict[ticker][['r_equity']].reindex(preds.index)\n",
    "    da = pd.merge(preds, x, on = preds.index).set_index('key_0')\n",
    "    da.index.name = 'date'\n",
    "    res = da['r_equity'] - da['rets']\n",
    "    residual_dict_capm[ticker] = res.to_frame()"
   ]
  },
  {
   "cell_type": "code",
   "execution_count": 197,
   "metadata": {},
   "outputs": [],
   "source": [
    "#residuals in same df\n",
    "final_residuals = {}\n",
    "for ticker in tickers:\n",
    "    x = pd.merge(residual_dict_1[ticker], residual_dict_capm[ticker], on = residual_dict_capm[ticker].index)\n",
    "    x = x.set_index('key_0')\n",
    "    x.index.name = 'date'\n",
    "    x = x.rename(columns = {'0_x': 'cds residual', '0_y': 'equity residual'})\n",
    "    final_residuals[ticker] = x\n"
   ]
  },
  {
   "cell_type": "code",
   "execution_count": 198,
   "metadata": {},
   "outputs": [],
   "source": [
    "#exponential decay functions and model\n",
    "exponential_residual_model_dict  = {}\n",
    "for ticker in tickers:\n",
    "    final_residuals[ticker].replace([np.inf, -np.inf], 0, inplace = True)\n",
    "    final_residuals[ticker] =final_residuals[ticker].fillna(0)\n",
    "    half_life = 1.2\n",
    "    lma = 2**(-1./half_life)\n",
    "    threshold = 1. / (final_residuals[ticker].shape[0]* 500)\n",
    "    w12 = lma**np.arange(final_residuals[ticker].shape[0]-1, -1, -1)\n",
    "    # Cuts off weight values too small to care about, allowing use of naive routines without losing accuracy or having too many points\n",
    "    exp_1p2_wts = w12[ w12 > threshold]\n",
    "    import statsmodels.regression.linear_model as linreg\n",
    "    enough_points = np.where( w12 > 1./20 )[0].shape[0]\n",
    "    def exp_1_2_reg(_df, x, y):\n",
    "        _n = min(exp_1p2_wts.shape[0], _df.shape[0])\n",
    "        _ldf = _df.iloc[-_n:]\n",
    "        _wt = exp_1p2_wts[-_n:]\n",
    "        _p = linreg.WLS(_ldf[x], _ldf[y], weights=_wt).fit(params_only=True).params\n",
    "        return pd.DataFrame(data=[_p], index=[_df.index[-1]])\n",
    "\n",
    "    exp_1_2_coeffs = pd.concat([exp_1_2_reg(final_residuals[ticker].iloc[max(0,i-exp_1p2_wts.shape[0]):i], 'cds residual', 'equity residual') for i in range(enough_points, final_residuals['BA'].shape[0])])\n",
    "    exponential_residual_model_dict[ticker] =exp_1_2_coeffs"
   ]
  },
  {
   "cell_type": "code",
   "execution_count": 199,
   "metadata": {},
   "outputs": [],
   "source": [
    "#residual boxcar regression\n",
    "boxcar_residual_model_dict = {}\n",
    "for ticker in tickers:\n",
    "    mod = pd.concat([boxcar_5_reg(final_residuals[ticker].iloc[i-16:i], 'cds residual', 'equity residual' ) for i in range(16, final_residuals[ticker].shape[0])])\n",
    "    boxcar_residual_model_dict[ticker] = mod"
   ]
  },
  {
   "cell_type": "code",
   "execution_count": 200,
   "metadata": {},
   "outputs": [],
   "source": [
    "#final exponential residuals\n",
    "exponential_residuals_of_residuals_dict = {}\n",
    "for ticker in tickers:\n",
    "    res = final_residuals[ticker][['equity residual', 'cds residual']]\n",
    "    coef = exponential_residual_model_dict[ticker]\n",
    "    res = res.reindex(coef.index)\n",
    "    x = pd.merge(res, coef, on = res.index)\n",
    "    x['preds'] = x['equity residual_x']*x['equity residual_y']\n",
    "    x = x.set_index('key_0')\n",
    "    x.index.name = 'date'\n",
    "    x['final residual'] = x['cds residual'] - x['preds']\n",
    "    x = x[['final residual']]\n",
    "    exponential_residual_model_dict[ticker] = x"
   ]
  },
  {
   "cell_type": "code",
   "execution_count": 201,
   "metadata": {},
   "outputs": [],
   "source": [
    "#final boxcar residuals\n",
    "boxcar_residuals_of_residuals_dict = {}\n",
    "for ticker in tickers:\n",
    "    res = final_residuals[ticker][['equity residual', 'cds residual']]\n",
    "    coef = boxcar_residual_model_dict[ticker]\n",
    "    res = res.reindex(coef.index)\n",
    "    x = pd.merge(res, coef, on = res.index)\n",
    "    x['preds'] = x['equity residual_x']*x['equity residual_y']\n",
    "    x = x.set_index('key_0')\n",
    "    x.index.name = 'date'\n",
    "    x['final residual'] = x['cds residual'] - x['preds']\n",
    "    x = x[['final residual']]\n",
    "    boxcar_residual_model_dict[ticker] = x"
   ]
  },
  {
   "cell_type": "code",
   "execution_count": 202,
   "metadata": {},
   "outputs": [
    {
     "data": {
      "text/html": [
       "<div>\n",
       "<style scoped>\n",
       "    .dataframe tbody tr th:only-of-type {\n",
       "        vertical-align: middle;\n",
       "    }\n",
       "\n",
       "    .dataframe tbody tr th {\n",
       "        vertical-align: top;\n",
       "    }\n",
       "\n",
       "    .dataframe thead th {\n",
       "        text-align: right;\n",
       "    }\n",
       "</style>\n",
       "<table border=\"1\" class=\"dataframe\">\n",
       "  <thead>\n",
       "    <tr style=\"text-align: right;\">\n",
       "      <th></th>\n",
       "      <th>final residual</th>\n",
       "    </tr>\n",
       "    <tr>\n",
       "      <th>date</th>\n",
       "      <th></th>\n",
       "    </tr>\n",
       "  </thead>\n",
       "  <tbody>\n",
       "    <tr>\n",
       "      <th>2018-02-07</th>\n",
       "      <td>0.000000</td>\n",
       "    </tr>\n",
       "    <tr>\n",
       "      <th>2018-02-14</th>\n",
       "      <td>0.000000</td>\n",
       "    </tr>\n",
       "    <tr>\n",
       "      <th>2018-02-21</th>\n",
       "      <td>0.000000</td>\n",
       "    </tr>\n",
       "    <tr>\n",
       "      <th>2018-02-28</th>\n",
       "      <td>0.000000</td>\n",
       "    </tr>\n",
       "    <tr>\n",
       "      <th>2018-03-07</th>\n",
       "      <td>0.000000</td>\n",
       "    </tr>\n",
       "    <tr>\n",
       "      <th>...</th>\n",
       "      <td>...</td>\n",
       "    </tr>\n",
       "    <tr>\n",
       "      <th>2022-11-23</th>\n",
       "      <td>0.050906</td>\n",
       "    </tr>\n",
       "    <tr>\n",
       "      <th>2022-11-30</th>\n",
       "      <td>-0.022244</td>\n",
       "    </tr>\n",
       "    <tr>\n",
       "      <th>2022-12-07</th>\n",
       "      <td>-0.000043</td>\n",
       "    </tr>\n",
       "    <tr>\n",
       "      <th>2022-12-14</th>\n",
       "      <td>0.006391</td>\n",
       "    </tr>\n",
       "    <tr>\n",
       "      <th>2022-12-21</th>\n",
       "      <td>-0.022090</td>\n",
       "    </tr>\n",
       "  </tbody>\n",
       "</table>\n",
       "<p>255 rows × 1 columns</p>\n",
       "</div>"
      ],
      "text/plain": [
       "            final residual\n",
       "date                      \n",
       "2018-02-07        0.000000\n",
       "2018-02-14        0.000000\n",
       "2018-02-21        0.000000\n",
       "2018-02-28        0.000000\n",
       "2018-03-07        0.000000\n",
       "...                    ...\n",
       "2022-11-23        0.050906\n",
       "2022-11-30       -0.022244\n",
       "2022-12-07       -0.000043\n",
       "2022-12-14        0.006391\n",
       "2022-12-21       -0.022090\n",
       "\n",
       "[255 rows x 1 columns]"
      ]
     },
     "execution_count": 202,
     "metadata": {},
     "output_type": "execute_result"
    }
   ],
   "source": [
    "exponential_residual_model_dict['BA']"
   ]
  },
  {
   "attachments": {},
   "cell_type": "markdown",
   "metadata": {},
   "source": [
    "# 1 DATA"
   ]
  },
  {
   "attachments": {},
   "cell_type": "markdown",
   "metadata": {},
   "source": [
    "# 2 ANALYSIS"
   ]
  }
 ],
 "metadata": {
  "kernelspec": {
   "display_name": "Python 3",
   "language": "python",
   "name": "python3"
  },
  "language_info": {
   "codemirror_mode": {
    "name": "ipython",
    "version": 3
   },
   "file_extension": ".py",
   "mimetype": "text/x-python",
   "name": "python",
   "nbconvert_exporter": "python",
   "pygments_lexer": "ipython3",
   "version": "3.9.5"
  },
  "orig_nbformat": 4,
  "vscode": {
   "interpreter": {
    "hash": "aee8b7b246df8f9039afb4144a1f6fd8d2ca17a180786b69acc140d282b71a49"
   }
  }
 },
 "nbformat": 4,
 "nbformat_minor": 2
}
