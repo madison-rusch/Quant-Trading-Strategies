{
 "cells": [
  {
   "attachments": {},
   "cell_type": "markdown",
   "metadata": {},
   "source": [
    "# THOMAS MCDONNELL QTS HW 5: FX CARRY TRADE"
   ]
  },
  {
   "cell_type": "code",
   "execution_count": 1,
   "metadata": {},
   "outputs": [],
   "source": [
    "import matplotlib.pyplot as plt\n",
    "import pandas as pd\n",
    "import numpy as np\n",
    "import scipy as sp\n",
    "import quandl\n",
    "import functools\n",
    "import seaborn as sns\n",
    "import plotnine as p9\n",
    "from datetime import datetime\n",
    "from datetime import timedelta\n",
    "from tqdm import tqdm\n",
    "from pandas import DateOffset\n",
    "\n",
    "import warnings\n",
    "\n",
    "# Suppress the warning\n",
    "warnings.filterwarnings(\"ignore\")"
   ]
  },
  {
   "cell_type": "code",
   "execution_count": null,
   "metadata": {},
   "outputs": [],
   "source": [
    "#Overnight Swaps Data\n",
    "ois = quandl.get('YC/GBR_ISSC', api_key = 'uoxc6V3s61czWuHoGLcs')\n",
    "part2 = quandl.get('YC/GBR_ISSS', api_key = 'uoxc6V3s61czWuHoGLcs')\n",
    "ois = pd.concat([ois, part2])\n",
    "ois = ois[['0.08Y']]"
   ]
  },
  {
   "cell_type": "code",
   "execution_count": 23,
   "metadata": {},
   "outputs": [],
   "source": [
    "#FX Rates Data\n",
    "vnd = quandl.get(\"CUR/VND\", authtoken=\"uoxc6V3s61czWuHoGLcs\")\n",
    "thb = quandl.get(\"CUR/THB\", authtoken=\"uoxc6V3s61czWuHoGLcs\")\n",
    "pkr = quandl.get(\"CUR/PKR\", authtoken=\"uoxc6V3s61czWuHoGLcs\")\n",
    "php = quandl.get(\"CUR/PHP\", authtoken=\"uoxc6V3s61czWuHoGLcs\")\n",
    "gbp = quandl.get(\"CUR/GBP\", authtoken=\"uoxc6V3s61czWuHoGLcs\")"
   ]
  },
  {
   "cell_type": "code",
   "execution_count": 24,
   "metadata": {},
   "outputs": [],
   "source": [
    "#Yield Curve Data\n",
    "vnd_yc = quandl.get(\"YC/VNM\", authtoken=\"uoxc6V3s61czWuHoGLcs\")\n",
    "thb_yc = quandl.get(\"YC/THA\", authtoken=\"uoxc6V3s61czWuHoGLcs\")\n",
    "pkr_yc = quandl.get(\"YC/PAK\", authtoken=\"uoxc6V3s61czWuHoGLcs\")\n",
    "php_yc = quandl.get(\"YC/PHL\", authtoken=\"uoxc6V3s61czWuHoGLcs\")"
   ]
  },
  {
   "cell_type": "code",
   "execution_count": 26,
   "metadata": {},
   "outputs": [
    {
     "data": {
      "text/html": [
       "<div>\n",
       "<style scoped>\n",
       "    .dataframe tbody tr th:only-of-type {\n",
       "        vertical-align: middle;\n",
       "    }\n",
       "\n",
       "    .dataframe tbody tr th {\n",
       "        vertical-align: top;\n",
       "    }\n",
       "\n",
       "    .dataframe thead th {\n",
       "        text-align: right;\n",
       "    }\n",
       "</style>\n",
       "<table border=\"1\" class=\"dataframe\">\n",
       "  <thead>\n",
       "    <tr style=\"text-align: right;\">\n",
       "      <th></th>\n",
       "      <th>0.08Y</th>\n",
       "    </tr>\n",
       "    <tr>\n",
       "      <th>Date</th>\n",
       "      <th></th>\n",
       "    </tr>\n",
       "  </thead>\n",
       "  <tbody>\n",
       "    <tr>\n",
       "      <th>2009-01-02</th>\n",
       "      <td>1.279724</td>\n",
       "    </tr>\n",
       "    <tr>\n",
       "      <th>2009-01-05</th>\n",
       "      <td>1.204601</td>\n",
       "    </tr>\n",
       "    <tr>\n",
       "      <th>2009-01-06</th>\n",
       "      <td>1.173760</td>\n",
       "    </tr>\n",
       "    <tr>\n",
       "      <th>2009-01-07</th>\n",
       "      <td>1.113437</td>\n",
       "    </tr>\n",
       "    <tr>\n",
       "      <th>2009-01-08</th>\n",
       "      <td>1.090821</td>\n",
       "    </tr>\n",
       "    <tr>\n",
       "      <th>...</th>\n",
       "      <td>...</td>\n",
       "    </tr>\n",
       "    <tr>\n",
       "      <th>2022-12-12</th>\n",
       "      <td>3.425263</td>\n",
       "    </tr>\n",
       "    <tr>\n",
       "      <th>2022-12-13</th>\n",
       "      <td>3.454667</td>\n",
       "    </tr>\n",
       "    <tr>\n",
       "      <th>2022-12-14</th>\n",
       "      <td>3.440270</td>\n",
       "    </tr>\n",
       "    <tr>\n",
       "      <th>2022-12-15</th>\n",
       "      <td>3.425806</td>\n",
       "    </tr>\n",
       "    <tr>\n",
       "      <th>2022-12-16</th>\n",
       "      <td>3.429990</td>\n",
       "    </tr>\n",
       "  </tbody>\n",
       "</table>\n",
       "<p>3532 rows × 1 columns</p>\n",
       "</div>"
      ],
      "text/plain": [
       "               0.08Y\n",
       "Date                \n",
       "2009-01-02  1.279724\n",
       "2009-01-05  1.204601\n",
       "2009-01-06  1.173760\n",
       "2009-01-07  1.113437\n",
       "2009-01-08  1.090821\n",
       "...              ...\n",
       "2022-12-12  3.425263\n",
       "2022-12-13  3.454667\n",
       "2022-12-14  3.440270\n",
       "2022-12-15  3.425806\n",
       "2022-12-16  3.429990\n",
       "\n",
       "[3532 rows x 1 columns]"
      ]
     },
     "execution_count": 26,
     "metadata": {},
     "output_type": "execute_result"
    }
   ],
   "source": [
    "#Excercise\n"
   ]
  }
 ],
 "metadata": {
  "kernelspec": {
   "display_name": "Python 3",
   "language": "python",
   "name": "python3"
  },
  "language_info": {
   "codemirror_mode": {
    "name": "ipython",
    "version": 3
   },
   "file_extension": ".py",
   "mimetype": "text/x-python",
   "name": "python",
   "nbconvert_exporter": "python",
   "pygments_lexer": "ipython3",
   "version": "3.11.2"
  },
  "orig_nbformat": 4,
  "vscode": {
   "interpreter": {
    "hash": "306c8db229f0a89c06d03772a1eff5479204b8baa09cdbdfc80c0ee3ff96995d"
   }
  }
 },
 "nbformat": 4,
 "nbformat_minor": 2
}
