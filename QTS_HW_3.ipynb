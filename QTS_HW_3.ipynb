{
 "cells": [
  {
   "attachments": {},
   "cell_type": "markdown",
   "metadata": {},
   "source": [
    "THOMAS MCDONNELL QUANT TRADING STRATEGIES HOMEWORK 3"
   ]
  },
  {
   "cell_type": "code",
   "execution_count": 1,
   "metadata": {},
   "outputs": [],
   "source": [
    "import matplotlib.pyplot as plt\n",
    "import pandas as pd\n",
    "import numpy as np\n",
    "import scipy as sp\n",
    "import quandl\n",
    "import functools\n",
    "import seaborn as sns\n",
    "import plotnine as p9\n",
    "from datetime import datetime\n",
    "from datetime import timedelta\n",
    "from tqdm import tqdm\n",
    "from pandas import DateOffset\n",
    "\n",
    "import warnings\n",
    "\n",
    "# Suppress the warning\n",
    "warnings.filterwarnings(\"ignore\")"
   ]
  },
  {
   "attachments": {},
   "cell_type": "markdown",
   "metadata": {},
   "source": [
    "Worked with Sean Lin"
   ]
  },
  {
   "cell_type": "code",
   "execution_count": 2,
   "metadata": {},
   "outputs": [],
   "source": [
    "FR = pd.read_csv(\"C:/Users/thoma/Downloads/ZACKS_FR_2_f40c6a304f87d9f492c1f21839d474e2\\ZACKS_FR_2_f40c6a304f87d9f492c1f21839d474e2.csv\")"
   ]
  },
  {
   "cell_type": "code",
   "execution_count": 3,
   "metadata": {},
   "outputs": [],
   "source": [
    "FR['per_end_date'] = pd.to_datetime(FR['per_end_date'])\n",
    "start_date = datetime(2014, 6, 1)\n",
    "FR = FR[FR['per_end_date'] >= start_date]\n",
    "end_date = datetime(2022, 1, 31)\n",
    "FR = FR[FR['per_end_date'] <= end_date]\n",
    "FR = FR.set_index('ticker')\n",
    "\n",
    "#Drop all of the tickers that don't have quarterly data\n",
    "FR = FR[FR['per_type'] == 'Q']"
   ]
  },
  {
   "cell_type": "code",
   "execution_count": 4,
   "metadata": {},
   "outputs": [],
   "source": [
    "FC = pd.read_csv(\"C:/Users/thoma\\Downloads\\ZACKS_FC_2_76e4bece47ce87cb8f221f639c7f829b/ZACKS_FC_2_76e4bece47ce87cb8f221f639c7f829b.csv\")\n"
   ]
  },
  {
   "cell_type": "code",
   "execution_count": 5,
   "metadata": {},
   "outputs": [],
   "source": [
    "FC = FC[['ticker','zacks_sector_code', 'per_end_date', 'filing_date']]"
   ]
  },
  {
   "cell_type": "code",
   "execution_count": 6,
   "metadata": {},
   "outputs": [],
   "source": [
    "FC = FC.drop_duplicates(subset = 'ticker')\n",
    "\n",
    "#Drop all tickers in the finance, industry and auto sector\n",
    "\n",
    "FC = FC[~FC['zacks_sector_code'].isin([5.0, 13.0])]\n",
    "FC = FC.set_index('ticker')"
   ]
  },
  {
   "cell_type": "code",
   "execution_count": 7,
   "metadata": {},
   "outputs": [],
   "source": [
    "common_tickers = set(FC.index).intersection(set(FR.index))\n",
    "FR = FR.loc[common_tickers]"
   ]
  },
  {
   "cell_type": "code",
   "execution_count": 8,
   "metadata": {},
   "outputs": [],
   "source": [
    "FR['tot_debt_tot_equity'] = pd.to_numeric(FR['tot_debt_tot_equity'])"
   ]
  },
  {
   "cell_type": "code",
   "execution_count": 9,
   "metadata": {},
   "outputs": [],
   "source": [
    "grouped = FR.groupby('ticker')\n",
    "\n",
    "# Count the number of rows where tot_debt_tot_equity is greater than 0.1\n",
    "counts = grouped['tot_debt_tot_equity'].apply(lambda x: (x > 0.1).sum())\n",
    "\n",
    "# Filter out the tickers that don't have more than 85% of their rows with tot_debt_tot_equity greater than 0.1\n",
    "FR = grouped.filter(lambda x: (x['tot_debt_tot_equity'] > 0.1).sum() > len(x)*.85)\n"
   ]
  },
  {
   "cell_type": "code",
   "execution_count": 10,
   "metadata": {},
   "outputs": [],
   "source": [
    "FR = FR.reset_index()"
   ]
  },
  {
   "cell_type": "code",
   "execution_count": 11,
   "metadata": {},
   "outputs": [],
   "source": [
    "FC = pd.read_csv(\"C:/Users/thoma\\Downloads\\ZACKS_FC_2_76e4bece47ce87cb8f221f639c7f829b/ZACKS_FC_2_76e4bece47ce87cb8f221f639c7f829b.csv\")\n",
    "FC = FC[['ticker', 'per_type','per_end_date', 'filing_date', 'tot_lterm_debt', 'net_lterm_debt', 'eps_diluted_net']]"
   ]
  },
  {
   "cell_type": "code",
   "execution_count": 12,
   "metadata": {},
   "outputs": [],
   "source": [
    "FC = FC[FC['per_type'] == 'Q']"
   ]
  },
  {
   "cell_type": "code",
   "execution_count": 13,
   "metadata": {},
   "outputs": [],
   "source": [
    "FC['per_end_date'] = pd.to_datetime(FC['per_end_date'])\n",
    "FC['filing_date'] = pd.to_datetime(FC['filing_date'])\n",
    "merged_df = pd.merge(FR, FC, on=['per_end_date', 'ticker'])\n",
    "merged_df = merged_df.drop_duplicates()"
   ]
  },
  {
   "cell_type": "code",
   "execution_count": 14,
   "metadata": {},
   "outputs": [],
   "source": [
    "merged_df = merged_df.set_index('ticker')"
   ]
  },
  {
   "cell_type": "code",
   "execution_count": 15,
   "metadata": {},
   "outputs": [],
   "source": [
    "merged_df = merged_df.dropna(subset=['filing_date'])"
   ]
  },
  {
   "cell_type": "code",
   "execution_count": 16,
   "metadata": {},
   "outputs": [
    {
     "data": {
      "text/plain": [
       "Index(['PSTV', 'KEYS', 'BGC', 'CST', 'FBIO', 'CTLP', 'PVG', 'CNX', 'PAY.',\n",
       "       'ALYE',\n",
       "       ...\n",
       "       'FUL', 'ALB', 'GEVO', 'OVRL', 'GNCMA', 'ISCB.', 'CXDC', 'MVNR.', 'XRX',\n",
       "       'SNDK'],\n",
       "      dtype='object', name='ticker', length=1892)"
      ]
     },
     "execution_count": 16,
     "metadata": {},
     "output_type": "execute_result"
    }
   ],
   "source": [
    "unique_tickers = merged_df.index.unique()\n",
    "unique_tickers"
   ]
  },
  {
   "cell_type": "code",
   "execution_count": 17,
   "metadata": {},
   "outputs": [
    {
     "name": "stderr",
     "output_type": "stream",
     "text": [
      "100%|██████████| 1892/1892 [00:02<00:00, 824.00it/s]\n"
     ]
    }
   ],
   "source": [
    "ticker_counts = {}\n",
    "for ticker in tqdm(unique_tickers):\n",
    "    # Get the number of rows for the current ticker\n",
    "    num_rows = merged_df.loc[merged_df.index == ticker].shape[0]\n",
    "    # Add the ticker and number of rows to the dictionary\n",
    "    ticker_counts[ticker] = num_rows\n"
   ]
  },
  {
   "cell_type": "code",
   "execution_count": 18,
   "metadata": {},
   "outputs": [],
   "source": [
    "#drop all tickers where they dont have at least 31 instances of data\n",
    "tickers_to_drop = [ticker for ticker in ticker_counts if ticker_counts[ticker] != 31]\n",
    "\n",
    "# Drop rows where the 'ticker' column is in the list of tickers to drop\n",
    "merged_df = merged_df[~merged_df.index.isin(tickers_to_drop)]\n",
    "FR\n",
    "unique_tickers = merged_df.index.unique().tolist()"
   ]
  },
  {
   "cell_type": "code",
   "execution_count": 19,
   "metadata": {},
   "outputs": [],
   "source": [
    "tickers_to_remove = ['SWIOU', 'GEF.B' 'SENEB', 'BUKS', 'NUVR', 'INRD', 'TMS.', 'GBCS', 'UNIR', 'JANL', 'STCC', 'SMID', 'TPCS', 'TDSNA', 'BVHBB', 'BGSF']"
   ]
  },
  {
   "cell_type": "code",
   "execution_count": 20,
   "metadata": {},
   "outputs": [],
   "source": [
    "tickers = [x for x in unique_tickers if x not in tickers_to_remove]"
   ]
  },
  {
   "attachments": {},
   "cell_type": "markdown",
   "metadata": {},
   "source": [
    "Now I have a list of tickers whose data I will be taking to calculate the financial ratios. All of the work below here is about pulling in ZACKs dataframes and extracting all of the data. \n",
    "\n",
    "For all ZACK tables that aren't FC I will also need to merge my data on the filing date again to ensure that I have a filing date"
   ]
  },
  {
   "cell_type": "code",
   "execution_count": 21,
   "metadata": {},
   "outputs": [],
   "source": [
    "merged_df = merged_df.loc[tickers]"
   ]
  },
  {
   "cell_type": "code",
   "execution_count": 22,
   "metadata": {},
   "outputs": [],
   "source": [
    "merged_df = merged_df[['per_end_date', 'filing_date', 'tot_debt_tot_equity', 'ret_invst', 'net_lterm_debt', 'tot_lterm_debt', 'eps_diluted_net']]"
   ]
  },
  {
   "cell_type": "code",
   "execution_count": 23,
   "metadata": {},
   "outputs": [],
   "source": [
    "filtered_df = merged_df[merged_df.index.isin(tickers)]"
   ]
  },
  {
   "attachments": {},
   "cell_type": "markdown",
   "metadata": {},
   "source": [
    "to do tomorrow: add SHRS/shares_out, MKTV/MKT_VAL, deal with getting prices on per end dates, shift all of my data to us knowing it the day after the filing date instead of on the filing date, change all EPS to equal .001 if negative, if net_lterm_debt is all NA, drop the ticker, if only a few NA set to 0. "
   ]
  },
  {
   "cell_type": "code",
   "execution_count": 24,
   "metadata": {},
   "outputs": [
    {
     "data": {
      "text/html": [
       "<div>\n",
       "<style scoped>\n",
       "    .dataframe tbody tr th:only-of-type {\n",
       "        vertical-align: middle;\n",
       "    }\n",
       "\n",
       "    .dataframe tbody tr th {\n",
       "        vertical-align: top;\n",
       "    }\n",
       "\n",
       "    .dataframe thead th {\n",
       "        text-align: right;\n",
       "    }\n",
       "</style>\n",
       "<table border=\"1\" class=\"dataframe\">\n",
       "  <thead>\n",
       "    <tr style=\"text-align: right;\">\n",
       "      <th></th>\n",
       "      <th>per_end_date</th>\n",
       "      <th>filing_date</th>\n",
       "      <th>tot_debt_tot_equity</th>\n",
       "      <th>ret_invst</th>\n",
       "      <th>net_lterm_debt</th>\n",
       "      <th>tot_lterm_debt</th>\n",
       "      <th>eps_diluted_net</th>\n",
       "    </tr>\n",
       "    <tr>\n",
       "      <th>ticker</th>\n",
       "      <th></th>\n",
       "      <th></th>\n",
       "      <th></th>\n",
       "      <th></th>\n",
       "      <th></th>\n",
       "      <th></th>\n",
       "      <th></th>\n",
       "    </tr>\n",
       "  </thead>\n",
       "  <tbody>\n",
       "    <tr>\n",
       "      <th>PSTV</th>\n",
       "      <td>2014-06-30</td>\n",
       "      <td>2014-08-11</td>\n",
       "      <td>24.7192</td>\n",
       "      <td>-57.1567</td>\n",
       "      <td>NaN</td>\n",
       "      <td>19.501</td>\n",
       "      <td>-1124.4380</td>\n",
       "    </tr>\n",
       "    <tr>\n",
       "      <th>PSTV</th>\n",
       "      <td>2014-09-30</td>\n",
       "      <td>2014-11-07</td>\n",
       "      <td>-8.6930</td>\n",
       "      <td>-55.0795</td>\n",
       "      <td>-1.303</td>\n",
       "      <td>20.332</td>\n",
       "      <td>-899.5502</td>\n",
       "    </tr>\n",
       "    <tr>\n",
       "      <th>PSTV</th>\n",
       "      <td>2014-12-31</td>\n",
       "      <td>2015-03-16</td>\n",
       "      <td>-4.9828</td>\n",
       "      <td>-46.6407</td>\n",
       "      <td>-1.962</td>\n",
       "      <td>18.041</td>\n",
       "      <td>-524.7374</td>\n",
       "    </tr>\n",
       "    <tr>\n",
       "      <th>PSTV</th>\n",
       "      <td>2015-03-31</td>\n",
       "      <td>2015-05-11</td>\n",
       "      <td>-1.2401</td>\n",
       "      <td>292.0724</td>\n",
       "      <td>NaN</td>\n",
       "      <td>15.677</td>\n",
       "      <td>-23913.0400</td>\n",
       "    </tr>\n",
       "    <tr>\n",
       "      <th>PSTV</th>\n",
       "      <td>2015-06-30</td>\n",
       "      <td>2015-08-10</td>\n",
       "      <td>8.1425</td>\n",
       "      <td>24.1271</td>\n",
       "      <td>-7.332</td>\n",
       "      <td>16.184</td>\n",
       "      <td>225.0000</td>\n",
       "    </tr>\n",
       "    <tr>\n",
       "      <th>...</th>\n",
       "      <td>...</td>\n",
       "      <td>...</td>\n",
       "      <td>...</td>\n",
       "      <td>...</td>\n",
       "      <td>...</td>\n",
       "      <td>...</td>\n",
       "      <td>...</td>\n",
       "    </tr>\n",
       "    <tr>\n",
       "      <th>XRX</th>\n",
       "      <td>2020-12-31</td>\n",
       "      <td>2021-02-25</td>\n",
       "      <td>0.7649</td>\n",
       "      <td>0.7809</td>\n",
       "      <td>133.000</td>\n",
       "      <td>4050.000</td>\n",
       "      <td>0.3500</td>\n",
       "    </tr>\n",
       "    <tr>\n",
       "      <th>XRX</th>\n",
       "      <td>2021-03-31</td>\n",
       "      <td>2021-04-30</td>\n",
       "      <td>0.7712</td>\n",
       "      <td>0.4186</td>\n",
       "      <td>-95.000</td>\n",
       "      <td>3674.000</td>\n",
       "      <td>0.1800</td>\n",
       "    </tr>\n",
       "    <tr>\n",
       "      <th>XRX</th>\n",
       "      <td>2021-06-30</td>\n",
       "      <td>2021-08-04</td>\n",
       "      <td>0.7695</td>\n",
       "      <td>0.9993</td>\n",
       "      <td>-209.000</td>\n",
       "      <td>3597.000</td>\n",
       "      <td>0.4600</td>\n",
       "    </tr>\n",
       "    <tr>\n",
       "      <th>XRX</th>\n",
       "      <td>2021-09-30</td>\n",
       "      <td>2021-11-03</td>\n",
       "      <td>0.7985</td>\n",
       "      <td>0.9800</td>\n",
       "      <td>-134.000</td>\n",
       "      <td>3673.000</td>\n",
       "      <td>0.4800</td>\n",
       "    </tr>\n",
       "    <tr>\n",
       "      <th>XRX</th>\n",
       "      <td>2021-12-31</td>\n",
       "      <td>2022-02-23</td>\n",
       "      <td>0.9117</td>\n",
       "      <td>-8.1667</td>\n",
       "      <td>-208.000</td>\n",
       "      <td>3596.000</td>\n",
       "      <td>-3.6800</td>\n",
       "    </tr>\n",
       "  </tbody>\n",
       "</table>\n",
       "<p>30938 rows × 7 columns</p>\n",
       "</div>"
      ],
      "text/plain": [
       "       per_end_date filing_date  tot_debt_tot_equity  ret_invst  \\\n",
       "ticker                                                            \n",
       "PSTV     2014-06-30  2014-08-11              24.7192   -57.1567   \n",
       "PSTV     2014-09-30  2014-11-07              -8.6930   -55.0795   \n",
       "PSTV     2014-12-31  2015-03-16              -4.9828   -46.6407   \n",
       "PSTV     2015-03-31  2015-05-11              -1.2401   292.0724   \n",
       "PSTV     2015-06-30  2015-08-10               8.1425    24.1271   \n",
       "...             ...         ...                  ...        ...   \n",
       "XRX      2020-12-31  2021-02-25               0.7649     0.7809   \n",
       "XRX      2021-03-31  2021-04-30               0.7712     0.4186   \n",
       "XRX      2021-06-30  2021-08-04               0.7695     0.9993   \n",
       "XRX      2021-09-30  2021-11-03               0.7985     0.9800   \n",
       "XRX      2021-12-31  2022-02-23               0.9117    -8.1667   \n",
       "\n",
       "        net_lterm_debt  tot_lterm_debt  eps_diluted_net  \n",
       "ticker                                                   \n",
       "PSTV               NaN          19.501       -1124.4380  \n",
       "PSTV            -1.303          20.332        -899.5502  \n",
       "PSTV            -1.962          18.041        -524.7374  \n",
       "PSTV               NaN          15.677      -23913.0400  \n",
       "PSTV            -7.332          16.184         225.0000  \n",
       "...                ...             ...              ...  \n",
       "XRX            133.000        4050.000           0.3500  \n",
       "XRX            -95.000        3674.000           0.1800  \n",
       "XRX           -209.000        3597.000           0.4600  \n",
       "XRX           -134.000        3673.000           0.4800  \n",
       "XRX           -208.000        3596.000          -3.6800  \n",
       "\n",
       "[30938 rows x 7 columns]"
      ]
     },
     "execution_count": 24,
     "metadata": {},
     "output_type": "execute_result"
    }
   ],
   "source": [
    "filtered_df"
   ]
  },
  {
   "attachments": {},
   "cell_type": "markdown",
   "metadata": {},
   "source": [
    "Dealing with Shares"
   ]
  },
  {
   "cell_type": "code",
   "execution_count": 25,
   "metadata": {},
   "outputs": [],
   "source": [
    "SHRS = pd.read_csv(\"C:/Users/thoma/Downloads/ZACKS_SHRS_2_99db6fa97ac677f3c0d45a9fa9a70196\\ZACKS_SHRS_2_99db6fa97ac677f3c0d45a9fa9a70196.csv\")\n",
    "SHRS = SHRS[['ticker', 'per_end_date', 'shares_out']]"
   ]
  },
  {
   "cell_type": "code",
   "execution_count": 26,
   "metadata": {},
   "outputs": [],
   "source": [
    "SHRS = SHRS.set_index('ticker')"
   ]
  },
  {
   "attachments": {},
   "cell_type": "markdown",
   "metadata": {},
   "source": [
    "Dealing with market value"
   ]
  },
  {
   "cell_type": "code",
   "execution_count": 27,
   "metadata": {},
   "outputs": [],
   "source": [
    "MKTV = pd.read_csv(\"C:/Users/thoma/Downloads/ZACKS_MKTV_2_ecb7f768974bbdd26964caefe2fd0378\\ZACKS_MKTV_2_ecb7f768974bbdd26964caefe2fd0378.csv\")\n",
    "MKTV = MKTV[['ticker', 'per_end_date', 'mkt_val']]"
   ]
  },
  {
   "cell_type": "code",
   "execution_count": 28,
   "metadata": {},
   "outputs": [],
   "source": [
    "MKTV['per_end_date'] = pd.to_datetime(MKTV['per_end_date'])"
   ]
  },
  {
   "cell_type": "code",
   "execution_count": 29,
   "metadata": {},
   "outputs": [],
   "source": [
    "filtered_df = pd.merge(filtered_df, MKTV, left_on = ['ticker', 'per_end_date'], right_on = ['ticker', 'per_end_date'])"
   ]
  },
  {
   "attachments": {},
   "cell_type": "markdown",
   "metadata": {},
   "source": [
    "Turning EPS all positive"
   ]
  },
  {
   "cell_type": "code",
   "execution_count": 30,
   "metadata": {},
   "outputs": [],
   "source": [
    "filtered_df.loc[:, 'eps_diluted_net'] = filtered_df.loc[:, 'eps_diluted_net'].where(filtered_df.loc[:, 'eps_diluted_net'] >= 0, 0.001)"
   ]
  },
  {
   "cell_type": "code",
   "execution_count": 31,
   "metadata": {},
   "outputs": [],
   "source": [
    "filtered_df = filtered_df.set_index('ticker')"
   ]
  },
  {
   "cell_type": "code",
   "execution_count": 32,
   "metadata": {},
   "outputs": [],
   "source": [
    "filtered_df['filing_date'] = filtered_df['filing_date'] + DateOffset(days=1)"
   ]
  },
  {
   "attachments": {},
   "cell_type": "markdown",
   "metadata": {},
   "source": [
    "import price data"
   ]
  },
  {
   "cell_type": "code",
   "execution_count": 40,
   "metadata": {},
   "outputs": [
    {
     "name": "stderr",
     "output_type": "stream",
     "text": [
      "100%|██████████| 1012/1012 [07:29<00:00,  2.25it/s]\n"
     ]
    }
   ],
   "source": [
    "eod_price = pd.DataFrame()\n",
    "for ticker in tqdm(unique_tickers):\n",
    "    df =  quandl.get_table('QUOTEMEDIA/PRICES', ticker = [ticker], api_key = 'uoxc6V3s61czWuHoGLcs',\n",
    "                    qopts = { 'columns': ['ticker', 'date', 'adj_close'] }, \n",
    "                    date = { 'gte': '2014-08-01', 'lte': '2022-02-01' }, \n",
    "                     paginate=True)\n",
    "    eod_price = eod_price.append(df)\n",
    "eod_price = eod_price.set_index('date')\n"
   ]
  },
  {
   "cell_type": "code",
   "execution_count": 46,
   "metadata": {},
   "outputs": [
    {
     "data": {
      "text/html": [
       "<div>\n",
       "<style scoped>\n",
       "    .dataframe tbody tr th:only-of-type {\n",
       "        vertical-align: middle;\n",
       "    }\n",
       "\n",
       "    .dataframe tbody tr th {\n",
       "        vertical-align: top;\n",
       "    }\n",
       "\n",
       "    .dataframe thead th {\n",
       "        text-align: right;\n",
       "    }\n",
       "</style>\n",
       "<table border=\"1\" class=\"dataframe\">\n",
       "  <thead>\n",
       "    <tr style=\"text-align: right;\">\n",
       "      <th></th>\n",
       "      <th>ticker</th>\n",
       "      <th>adj_close</th>\n",
       "    </tr>\n",
       "    <tr>\n",
       "      <th>date</th>\n",
       "      <th></th>\n",
       "      <th></th>\n",
       "    </tr>\n",
       "  </thead>\n",
       "  <tbody>\n",
       "    <tr>\n",
       "      <th>2022-02-01</th>\n",
       "      <td>PSTV</td>\n",
       "      <td>1.000000</td>\n",
       "    </tr>\n",
       "    <tr>\n",
       "      <th>2022-01-31</th>\n",
       "      <td>PSTV</td>\n",
       "      <td>0.944000</td>\n",
       "    </tr>\n",
       "    <tr>\n",
       "      <th>2022-01-28</th>\n",
       "      <td>PSTV</td>\n",
       "      <td>0.986500</td>\n",
       "    </tr>\n",
       "    <tr>\n",
       "      <th>2022-01-27</th>\n",
       "      <td>PSTV</td>\n",
       "      <td>0.916200</td>\n",
       "    </tr>\n",
       "    <tr>\n",
       "      <th>2022-01-26</th>\n",
       "      <td>PSTV</td>\n",
       "      <td>0.865700</td>\n",
       "    </tr>\n",
       "    <tr>\n",
       "      <th>...</th>\n",
       "      <td>...</td>\n",
       "      <td>...</td>\n",
       "    </tr>\n",
       "    <tr>\n",
       "      <th>2014-08-07</th>\n",
       "      <td>XRX</td>\n",
       "      <td>25.937491</td>\n",
       "    </tr>\n",
       "    <tr>\n",
       "      <th>2014-08-06</th>\n",
       "      <td>XRX</td>\n",
       "      <td>26.057851</td>\n",
       "    </tr>\n",
       "    <tr>\n",
       "      <th>2014-08-05</th>\n",
       "      <td>XRX</td>\n",
       "      <td>26.238390</td>\n",
       "    </tr>\n",
       "    <tr>\n",
       "      <th>2014-08-04</th>\n",
       "      <td>XRX</td>\n",
       "      <td>26.338690</td>\n",
       "    </tr>\n",
       "    <tr>\n",
       "      <th>2014-08-01</th>\n",
       "      <td>XRX</td>\n",
       "      <td>26.158150</td>\n",
       "    </tr>\n",
       "  </tbody>\n",
       "</table>\n",
       "<p>1806423 rows × 2 columns</p>\n",
       "</div>"
      ],
      "text/plain": [
       "           ticker  adj_close\n",
       "date                        \n",
       "2022-02-01   PSTV   1.000000\n",
       "2022-01-31   PSTV   0.944000\n",
       "2022-01-28   PSTV   0.986500\n",
       "2022-01-27   PSTV   0.916200\n",
       "2022-01-26   PSTV   0.865700\n",
       "...           ...        ...\n",
       "2014-08-07    XRX  25.937491\n",
       "2014-08-06    XRX  26.057851\n",
       "2014-08-05    XRX  26.238390\n",
       "2014-08-04    XRX  26.338690\n",
       "2014-08-01    XRX  26.158150\n",
       "\n",
       "[1806423 rows x 2 columns]"
      ]
     },
     "execution_count": 46,
     "metadata": {},
     "output_type": "execute_result"
    }
   ],
   "source": [
    "eod_price"
   ]
  },
  {
   "cell_type": "code",
   "execution_count": 47,
   "metadata": {},
   "outputs": [],
   "source": [
    "eod_price = eod_price.sort_values(by='date')"
   ]
  },
  {
   "cell_type": "code",
   "execution_count": 48,
   "metadata": {},
   "outputs": [],
   "source": [
    "filtered_df = filtered_df.sort_values(by = 'filing_date')\n",
    "filtered_df['date'] = filtered_df['filing_date']"
   ]
  },
  {
   "cell_type": "code",
   "execution_count": 49,
   "metadata": {},
   "outputs": [],
   "source": [
    "n =pd.merge_asof(eod_price, filtered_df, by = 'ticker', left_on = 'date', right_on = 'date')"
   ]
  },
  {
   "cell_type": "code",
   "execution_count": 50,
   "metadata": {},
   "outputs": [],
   "source": [
    "n = n.set_index('ticker')"
   ]
  },
  {
   "cell_type": "code",
   "execution_count": 51,
   "metadata": {},
   "outputs": [],
   "source": [
    "LLY = n.loc['LLY']"
   ]
  },
  {
   "cell_type": "code",
   "execution_count": 52,
   "metadata": {},
   "outputs": [],
   "source": [
    "n = n.reset_index()"
   ]
  },
  {
   "cell_type": "code",
   "execution_count": 53,
   "metadata": {},
   "outputs": [],
   "source": [
    "tickers = n['ticker'].unique().tolist()"
   ]
  },
  {
   "cell_type": "code",
   "execution_count": 54,
   "metadata": {},
   "outputs": [],
   "source": [
    "n = n.set_index('ticker')"
   ]
  },
  {
   "cell_type": "code",
   "execution_count": 55,
   "metadata": {},
   "outputs": [],
   "source": [
    "n['net_lterm_debt'] = n['net_lterm_debt'].fillna(n['tot_lterm_debt'])\n",
    "n['net_lterm_debt'] = n['net_lterm_debt'].fillna(0)"
   ]
  },
  {
   "cell_type": "code",
   "execution_count": 75,
   "metadata": {},
   "outputs": [
    {
     "name": "stderr",
     "output_type": "stream",
     "text": [
      "100%|██████████| 972/972 [03:18<00:00,  4.89it/s]\n"
     ]
    }
   ],
   "source": [
    "for ticker in tqdm(n.index.unique()):\n",
    "    if n.loc[ticker].isna().any().any():\n",
    "        n = n.drop(ticker)"
   ]
  },
  {
   "cell_type": "code",
   "execution_count": 78,
   "metadata": {},
   "outputs": [],
   "source": [
    "tickers = n.index.unique().tolist()"
   ]
  },
  {
   "attachments": {},
   "cell_type": "markdown",
   "metadata": {},
   "source": [
    "Loop to get my ratios"
   ]
  },
  {
   "cell_type": "code",
   "execution_count": 118,
   "metadata": {},
   "outputs": [],
   "source": [
    "n = n.loc[tickers]"
   ]
  },
  {
   "cell_type": "code",
   "execution_count": 126,
   "metadata": {},
   "outputs": [
    {
     "data": {
      "text/plain": [
       "Index(['date', 'adj_close', 'per_end_date', 'filing_date',\n",
       "       'tot_debt_tot_equity', 'ret_invst', 'net_lterm_debt', 'tot_lterm_debt',\n",
       "       'eps_diluted_net', 'mkt_val'],\n",
       "      dtype='object')"
      ]
     },
     "execution_count": 126,
     "metadata": {},
     "output_type": "execute_result"
    }
   ],
   "source": [
    "LLY = n.loc['LLY']\n",
    "LLY.columns"
   ]
  },
  {
   "cell_type": "code",
   "execution_count": 165,
   "metadata": {},
   "outputs": [
    {
     "name": "stderr",
     "output_type": "stream",
     "text": [
      "100%|██████████| 280/280 [00:04<00:00, 56.69it/s]\n"
     ]
    }
   ],
   "source": [
    "f = pd.DataFrame()\n",
    "for ticker in tqdm(tickers):\n",
    "    df = n.loc[ticker]\n",
    "    df = df.merge(df, left_on='per_end_date', right_on='date', how = 'outer').ffill()\n",
    "    df = df.rename(columns = {'adj_close_y': 'per_end_price'})\n",
    "    df['debt_to_market_cap'] = df['tot_debt_tot_equity_x']*df['per_end_price']/df['adj_close_x']\n",
    "    df['price_to_earnings'] = df['adj_close_x']/df['eps_diluted_net_x']\n",
    "    df['R'] = (df['ret_invst_x']*(df['net_lterm_debt_y'] + (df['mkt_val_x'])))\n",
    "    df['ROI'] = df['R']/(df['net_lterm_debt_y']+df['mkt_val_x']*df['adj_close_x']/df['per_end_price']) \n",
    "    df['ticker'] = ticker\n",
    "    df = df[['date_x', 'adj_close_x', 'debt_to_market_cap', 'price_to_earnings', 'ROI', 'ticker']]\n",
    "    df = df.rename(columns = {'date_x': 'date', 'adj_close_x': 'price'})\n",
    "    df = df.drop_duplicates(subset = 'date')\n",
    "    f = df.append(f)"
   ]
  },
  {
   "cell_type": "code",
   "execution_count": 168,
   "metadata": {},
   "outputs": [
    {
     "ename": "KeyError",
     "evalue": "\"None of ['ticker'] are in the columns\"",
     "output_type": "error",
     "traceback": [
      "\u001b[1;31m---------------------------------------------------------------------------\u001b[0m",
      "\u001b[1;31mKeyError\u001b[0m                                  Traceback (most recent call last)",
      "Cell \u001b[1;32mIn[168], line 1\u001b[0m\n\u001b[1;32m----> 1\u001b[0m f \u001b[39m=\u001b[39m f\u001b[39m.\u001b[39;49mset_index(\u001b[39m'\u001b[39;49m\u001b[39mticker\u001b[39;49m\u001b[39m'\u001b[39;49m)\n",
      "File \u001b[1;32mc:\\Users\\thoma\\AppData\\Local\\Programs\\Python\\Python311\\Lib\\site-packages\\pandas\\util\\_decorators.py:331\u001b[0m, in \u001b[0;36mdeprecate_nonkeyword_arguments.<locals>.decorate.<locals>.wrapper\u001b[1;34m(*args, **kwargs)\u001b[0m\n\u001b[0;32m    325\u001b[0m \u001b[39mif\u001b[39;00m \u001b[39mlen\u001b[39m(args) \u001b[39m>\u001b[39m num_allow_args:\n\u001b[0;32m    326\u001b[0m     warnings\u001b[39m.\u001b[39mwarn(\n\u001b[0;32m    327\u001b[0m         msg\u001b[39m.\u001b[39mformat(arguments\u001b[39m=\u001b[39m_format_argument_list(allow_args)),\n\u001b[0;32m    328\u001b[0m         \u001b[39mFutureWarning\u001b[39;00m,\n\u001b[0;32m    329\u001b[0m         stacklevel\u001b[39m=\u001b[39mfind_stack_level(),\n\u001b[0;32m    330\u001b[0m     )\n\u001b[1;32m--> 331\u001b[0m \u001b[39mreturn\u001b[39;00m func(\u001b[39m*\u001b[39;49margs, \u001b[39m*\u001b[39;49m\u001b[39m*\u001b[39;49mkwargs)\n",
      "File \u001b[1;32mc:\\Users\\thoma\\AppData\\Local\\Programs\\Python\\Python311\\Lib\\site-packages\\pandas\\core\\frame.py:6012\u001b[0m, in \u001b[0;36mDataFrame.set_index\u001b[1;34m(self, keys, drop, append, inplace, verify_integrity)\u001b[0m\n\u001b[0;32m   6009\u001b[0m                 missing\u001b[39m.\u001b[39mappend(col)\n\u001b[0;32m   6011\u001b[0m \u001b[39mif\u001b[39;00m missing:\n\u001b[1;32m-> 6012\u001b[0m     \u001b[39mraise\u001b[39;00m \u001b[39mKeyError\u001b[39;00m(\u001b[39mf\u001b[39m\u001b[39m\"\u001b[39m\u001b[39mNone of \u001b[39m\u001b[39m{\u001b[39;00mmissing\u001b[39m}\u001b[39;00m\u001b[39m are in the columns\u001b[39m\u001b[39m\"\u001b[39m)\n\u001b[0;32m   6014\u001b[0m \u001b[39mif\u001b[39;00m inplace:\n\u001b[0;32m   6015\u001b[0m     frame \u001b[39m=\u001b[39m \u001b[39mself\u001b[39m\n",
      "\u001b[1;31mKeyError\u001b[0m: \"None of ['ticker'] are in the columns\""
     ]
    }
   ],
   "source": [
    "f = f.set_index('ticker')"
   ]
  },
  {
   "cell_type": "code",
   "execution_count": 169,
   "metadata": {},
   "outputs": [],
   "source": [
    "f.to_csv('hw_3_ratio_data.csv')"
   ]
  },
  {
   "cell_type": "code",
   "execution_count": null,
   "metadata": {},
   "outputs": [],
   "source": []
  }
 ],
 "metadata": {
  "kernelspec": {
   "display_name": "Python 3",
   "language": "python",
   "name": "python3"
  },
  "language_info": {
   "codemirror_mode": {
    "name": "ipython",
    "version": 3
   },
   "file_extension": ".py",
   "mimetype": "text/x-python",
   "name": "python",
   "nbconvert_exporter": "python",
   "pygments_lexer": "ipython3",
   "version": "3.11.1 (tags/v3.11.1:a7a450f, Dec  6 2022, 19:58:39) [MSC v.1934 64 bit (AMD64)]"
  },
  "orig_nbformat": 4,
  "vscode": {
   "interpreter": {
    "hash": "306c8db229f0a89c06d03772a1eff5479204b8baa09cdbdfc80c0ee3ff96995d"
   }
  }
 },
 "nbformat": 4,
 "nbformat_minor": 2
}
