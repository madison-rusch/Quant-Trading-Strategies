{
 "cells": [
  {
   "attachments": {},
   "cell_type": "markdown",
   "metadata": {},
   "source": [
    "THOMAS MCDONNELL QUANT TRADING STRATEGIES HOMEWORK 3"
   ]
  },
  {
   "cell_type": "code",
   "execution_count": 96,
   "metadata": {},
   "outputs": [],
   "source": [
    "import matplotlib.pyplot as plt\n",
    "import pandas as pd\n",
    "import numpy as np\n",
    "import scipy as sp\n",
    "import quandl\n",
    "import functools\n",
    "import seaborn as sns\n",
    "import plotnine as p9\n",
    "from datetime import datetime\n",
    "from datetime import timedelta\n",
    "from tqdm import tqdm\n",
    "\n",
    "\n",
    "import warnings\n",
    "\n",
    "# Suppress the warning\n",
    "warnings.filterwarnings(\"ignore\")"
   ]
  },
  {
   "cell_type": "code",
   "execution_count": 69,
   "metadata": {},
   "outputs": [],
   "source": [
    "# FC = pd.read_csv('/Users/tmac/Downloads/ZACKS_FC_2_76e4bece47ce87cb8f221f639c7f829b.csv')\n",
    "MT = pd.read_csv('/Users/tmac/Downloads/ZACKS_MT_2_5c2afb6368dcc3ed48e1a84279323e63.csv')\n",
    "FR = pd.read_csv('/Users/tmac/Downloads/ZACKS_FR_2_f40c6a304f87d9f492c1f21839d474e2.csv')\n",
    "MKTV = pd.read_csv('/Users/tmac/Downloads/ZACKS_MKTV_2_ecb7f768974bbdd26964caefe2fd0378.zip')\n",
    "\n"
   ]
  },
  {
   "cell_type": "code",
   "execution_count": 102,
   "metadata": {},
   "outputs": [
    {
     "name": "stderr",
     "output_type": "stream",
     "text": [
      "100%|██████████| 16146/16146 [08:22<00:00, 32.16it/s]\n"
     ]
    }
   ],
   "source": [
    "unique_tickers = FR['ticker'].unique().tolist()\n",
    "x = dict()\n",
    "for ticker in tqdm(unique_tickers):\n",
    "    df = FR[FR['ticker'] == ticker]\n",
    "    x[ticker] = df"
   ]
  },
  {
   "cell_type": "code",
   "execution_count": 113,
   "metadata": {},
   "outputs": [
    {
     "name": "stdout",
     "output_type": "stream",
     "text": [
      "2717\n"
     ]
    }
   ],
   "source": [
    "l = []\n",
    "for key in x:\n",
    "    if len(x[key]) > 80:\n",
    "        l.append(key)\n"
   ]
  },
  {
   "cell_type": "code",
   "execution_count": 71,
   "metadata": {},
   "outputs": [],
   "source": [
    "# eod_price = dict()\n",
    "# for ticker in tick_list:\n",
    "#     df =  quandl.get_table('WIKI/PRICES', ticker = [ticker], \n",
    "#                     qopts = { 'columns': ['ticker', 'date', 'adj_close'] }, \n",
    "#                     date = { 'gte': '2015-12-31', 'lte': '2016-12-31' }, \n",
    "#                      paginate=True)\n",
    "#     eod_price[ticker]  = df\n",
    "\n"
   ]
  }
 ],
 "metadata": {
  "kernelspec": {
   "display_name": "Python 3",
   "language": "python",
   "name": "python3"
  },
  "language_info": {
   "codemirror_mode": {
    "name": "ipython",
    "version": 3
   },
   "file_extension": ".py",
   "mimetype": "text/x-python",
   "name": "python",
   "nbconvert_exporter": "python",
   "pygments_lexer": "ipython3",
   "version": "3.9.5"
  },
  "orig_nbformat": 4,
  "vscode": {
   "interpreter": {
    "hash": "aee8b7b246df8f9039afb4144a1f6fd8d2ca17a180786b69acc140d282b71a49"
   }
  }
 },
 "nbformat": 4,
 "nbformat_minor": 2
}
