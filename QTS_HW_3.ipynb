{
 "cells": [
  {
   "attachments": {},
   "cell_type": "markdown",
   "metadata": {},
   "source": [
    "THOMAS MCDONNELL QUANT TRADING STRATEGIES HOMEWORK 3"
   ]
  },
  {
   "cell_type": "code",
   "execution_count": 332,
   "metadata": {},
   "outputs": [],
   "source": [
    "import matplotlib.pyplot as plt\n",
    "import pandas as pd\n",
    "import numpy as np\n",
    "import scipy as sp\n",
    "import quandl\n",
    "import functools\n",
    "import seaborn as sns\n",
    "import plotnine as p9\n",
    "from datetime import datetime\n",
    "from datetime import timedelta\n",
    "from tqdm import tqdm\n",
    "from pandas import DateOffset\n",
    "\n",
    "import warnings\n",
    "\n",
    "# Suppress the warning\n",
    "warnings.filterwarnings(\"ignore\")"
   ]
  },
  {
   "attachments": {},
   "cell_type": "markdown",
   "metadata": {},
   "source": [
    "Worked with Sean Lin"
   ]
  },
  {
   "cell_type": "code",
   "execution_count": 333,
   "metadata": {},
   "outputs": [],
   "source": [
    "FR = pd.read_csv(\"C:/Users/thoma/Downloads/ZACKS_FR_2_f40c6a304f87d9f492c1f21839d474e2\\ZACKS_FR_2_f40c6a304f87d9f492c1f21839d474e2.csv\")"
   ]
  },
  {
   "cell_type": "code",
   "execution_count": 334,
   "metadata": {},
   "outputs": [],
   "source": [
    "FR['per_end_date'] = pd.to_datetime(FR['per_end_date'])\n",
    "start_date = datetime(2014, 6, 1)\n",
    "FR = FR[FR['per_end_date'] >= start_date]\n",
    "end_date = datetime(2022, 1, 31)\n",
    "FR = FR[FR['per_end_date'] <= end_date]\n",
    "FR = FR.set_index('ticker')\n",
    "\n",
    "#Drop all of the tickers that don't have quarterly data\n",
    "FR = FR[FR['per_type'] == 'Q']"
   ]
  },
  {
   "cell_type": "code",
   "execution_count": 335,
   "metadata": {},
   "outputs": [],
   "source": [
    "FC = pd.read_csv(\"C:/Users/thoma\\Downloads\\ZACKS_FC_2_76e4bece47ce87cb8f221f639c7f829b/ZACKS_FC_2_76e4bece47ce87cb8f221f639c7f829b.csv\")\n"
   ]
  },
  {
   "cell_type": "code",
   "execution_count": 336,
   "metadata": {},
   "outputs": [],
   "source": [
    "FC = FC[['ticker','zacks_sector_code', 'per_end_date', 'filing_date']]"
   ]
  },
  {
   "cell_type": "code",
   "execution_count": 337,
   "metadata": {},
   "outputs": [],
   "source": [
    "FC = FC.drop_duplicates(subset = 'ticker')\n",
    "\n",
    "#Drop all tickers in the finance, industry and auto sector\n",
    "\n",
    "FC = FC[~FC['zacks_sector_code'].isin([5.0, 13.0])]\n",
    "FC = FC.set_index('ticker')"
   ]
  },
  {
   "cell_type": "code",
   "execution_count": 338,
   "metadata": {},
   "outputs": [],
   "source": [
    "common_tickers = set(FC.index).intersection(set(FR.index))\n",
    "FR = FR.loc[common_tickers]"
   ]
  },
  {
   "cell_type": "code",
   "execution_count": 339,
   "metadata": {},
   "outputs": [],
   "source": [
    "FR['tot_debt_tot_equity'] = pd.to_numeric(FR['tot_debt_tot_equity'])"
   ]
  },
  {
   "cell_type": "code",
   "execution_count": 340,
   "metadata": {},
   "outputs": [],
   "source": [
    "grouped = FR.groupby('ticker')\n",
    "\n",
    "# Count the number of rows where tot_debt_tot_equity is greater than 0.1\n",
    "counts = grouped['tot_debt_tot_equity'].apply(lambda x: (x > 0.1).sum())\n",
    "\n",
    "# Filter out the tickers that don't have more than 85% of their rows with tot_debt_tot_equity greater than 0.1\n",
    "FR = grouped.filter(lambda x: (x['tot_debt_tot_equity'] > 0.1).sum() > len(x)*.85)\n"
   ]
  },
  {
   "cell_type": "code",
   "execution_count": 341,
   "metadata": {},
   "outputs": [],
   "source": [
    "FR = FR.reset_index()"
   ]
  },
  {
   "cell_type": "code",
   "execution_count": 342,
   "metadata": {},
   "outputs": [],
   "source": [
    "FC = pd.read_csv(\"C:/Users/thoma\\Downloads\\ZACKS_FC_2_76e4bece47ce87cb8f221f639c7f829b/ZACKS_FC_2_76e4bece47ce87cb8f221f639c7f829b.csv\")\n",
    "FC = FC[['ticker', 'per_type','per_end_date', 'filing_date', 'tot_lterm_debt', 'net_lterm_debt', 'eps_diluted_net']]"
   ]
  },
  {
   "cell_type": "code",
   "execution_count": 343,
   "metadata": {},
   "outputs": [],
   "source": [
    "FC = FC[FC['per_type'] == 'Q']"
   ]
  },
  {
   "cell_type": "code",
   "execution_count": 344,
   "metadata": {},
   "outputs": [],
   "source": [
    "FC['per_end_date'] = pd.to_datetime(FC['per_end_date'])\n",
    "FC['filing_date'] = pd.to_datetime(FC['filing_date'])\n",
    "merged_df = pd.merge(FR, FC, on=['per_end_date', 'ticker'])\n",
    "merged_df = merged_df.drop_duplicates()"
   ]
  },
  {
   "cell_type": "code",
   "execution_count": 345,
   "metadata": {},
   "outputs": [],
   "source": [
    "merged_df = merged_df.set_index('ticker')"
   ]
  },
  {
   "cell_type": "code",
   "execution_count": 346,
   "metadata": {},
   "outputs": [],
   "source": [
    "merged_df = merged_df.dropna(subset=['filing_date'])"
   ]
  },
  {
   "cell_type": "code",
   "execution_count": 347,
   "metadata": {},
   "outputs": [
    {
     "data": {
      "text/plain": [
       "Index(['SRCL', 'EW', 'FLEX', 'MERC', 'BPL', 'FBIO', 'IEX', 'MLAB', 'EXAM',\n",
       "       'CNL',\n",
       "       ...\n",
       "       'AMPH', 'GWR', 'ADP', 'TCPTF', 'CMCO', 'PTSI', 'TXN', 'SUNEQ', 'SXC',\n",
       "       'NTI'],\n",
       "      dtype='object', name='ticker', length=1892)"
      ]
     },
     "execution_count": 347,
     "metadata": {},
     "output_type": "execute_result"
    }
   ],
   "source": [
    "unique_tickers = merged_df.index.unique()\n",
    "unique_tickers"
   ]
  },
  {
   "cell_type": "code",
   "execution_count": 348,
   "metadata": {},
   "outputs": [
    {
     "name": "stderr",
     "output_type": "stream",
     "text": [
      "100%|██████████| 1892/1892 [00:02<00:00, 817.02it/s]\n"
     ]
    }
   ],
   "source": [
    "ticker_counts = {}\n",
    "for ticker in tqdm(unique_tickers):\n",
    "    # Get the number of rows for the current ticker\n",
    "    num_rows = merged_df.loc[merged_df.index == ticker].shape[0]\n",
    "    # Add the ticker and number of rows to the dictionary\n",
    "    ticker_counts[ticker] = num_rows\n"
   ]
  },
  {
   "cell_type": "code",
   "execution_count": 349,
   "metadata": {},
   "outputs": [],
   "source": [
    "#drop all tickers where they dont have at least 28 instances of data\n",
    "tickers_to_drop = [ticker for ticker in ticker_counts if ticker_counts[ticker] != 31]\n",
    "\n",
    "# Drop rows where the 'ticker' column is in the list of tickers to drop\n",
    "merged_df = merged_df[~merged_df.index.isin(tickers_to_drop)]\n",
    "FR\n",
    "unique_tickers = merged_df.index.unique().tolist()"
   ]
  },
  {
   "cell_type": "code",
   "execution_count": 350,
   "metadata": {},
   "outputs": [],
   "source": [
    "tickers_to_remove = ['SWIOU', 'GEF.B' 'SENEB', 'BUKS', 'NUVR', 'INRD', 'TMS.', 'GBCS', 'UNIR', 'JANL', 'STCC', 'SMID', 'TPCS', 'TDSNA', 'BVHBB', 'BGSF']"
   ]
  },
  {
   "cell_type": "code",
   "execution_count": 351,
   "metadata": {},
   "outputs": [],
   "source": [
    "tickers = [x for x in unique_tickers if x not in tickers_to_remove]"
   ]
  },
  {
   "attachments": {},
   "cell_type": "markdown",
   "metadata": {},
   "source": [
    "Now I have a list of tickers whose data I will be taking to calculate the financial ratios. All of the work below here is about pulling in ZACKs dataframes and extracting all of the data. \n",
    "\n",
    "For all ZACK tables that aren't FC I will also need to merge my data on the filing date again to ensure that I have a filing date"
   ]
  },
  {
   "cell_type": "code",
   "execution_count": 352,
   "metadata": {},
   "outputs": [],
   "source": [
    "merged_df = merged_df.loc[tickers]"
   ]
  },
  {
   "cell_type": "code",
   "execution_count": 353,
   "metadata": {},
   "outputs": [],
   "source": [
    "merged_df = merged_df[['per_end_date', 'filing_date', 'tot_debt_tot_equity', 'ret_invst', 'net_lterm_debt', 'tot_lterm_debt', 'eps_diluted_net']]"
   ]
  },
  {
   "cell_type": "code",
   "execution_count": 354,
   "metadata": {},
   "outputs": [],
   "source": [
    "filtered_df = merged_df[merged_df.index.isin(tickers)]"
   ]
  },
  {
   "attachments": {},
   "cell_type": "markdown",
   "metadata": {},
   "source": [
    "to do tomorrow: add SHRS/shares_out, MKTV/MKT_VAL, deal with getting prices on per end dates, shift all of my data to us knowing it the day after the filing date instead of on the filing date, change all EPS to equal .001 if negative, if net_lterm_debt is all NA, drop the ticker, if only a few NA set to 0. "
   ]
  },
  {
   "cell_type": "code",
   "execution_count": 355,
   "metadata": {},
   "outputs": [
    {
     "data": {
      "text/html": [
       "<div>\n",
       "<style scoped>\n",
       "    .dataframe tbody tr th:only-of-type {\n",
       "        vertical-align: middle;\n",
       "    }\n",
       "\n",
       "    .dataframe tbody tr th {\n",
       "        vertical-align: top;\n",
       "    }\n",
       "\n",
       "    .dataframe thead th {\n",
       "        text-align: right;\n",
       "    }\n",
       "</style>\n",
       "<table border=\"1\" class=\"dataframe\">\n",
       "  <thead>\n",
       "    <tr style=\"text-align: right;\">\n",
       "      <th></th>\n",
       "      <th>per_end_date</th>\n",
       "      <th>filing_date</th>\n",
       "      <th>tot_debt_tot_equity</th>\n",
       "      <th>ret_invst</th>\n",
       "      <th>net_lterm_debt</th>\n",
       "      <th>tot_lterm_debt</th>\n",
       "      <th>eps_diluted_net</th>\n",
       "    </tr>\n",
       "    <tr>\n",
       "      <th>ticker</th>\n",
       "      <th></th>\n",
       "      <th></th>\n",
       "      <th></th>\n",
       "      <th></th>\n",
       "      <th></th>\n",
       "      <th></th>\n",
       "      <th></th>\n",
       "    </tr>\n",
       "  </thead>\n",
       "  <tbody>\n",
       "    <tr>\n",
       "      <th>SRCL</th>\n",
       "      <td>2014-06-30</td>\n",
       "      <td>2014-08-07</td>\n",
       "      <td>0.9260</td>\n",
       "      <td>2.4201</td>\n",
       "      <td>182.6799</td>\n",
       "      <td>1563.913</td>\n",
       "      <td>0.95</td>\n",
       "    </tr>\n",
       "    <tr>\n",
       "      <th>SRCL</th>\n",
       "      <td>2014-09-30</td>\n",
       "      <td>2014-11-07</td>\n",
       "      <td>0.8921</td>\n",
       "      <td>2.4478</td>\n",
       "      <td>141.5759</td>\n",
       "      <td>1512.333</td>\n",
       "      <td>0.96</td>\n",
       "    </tr>\n",
       "    <tr>\n",
       "      <th>SRCL</th>\n",
       "      <td>2014-12-31</td>\n",
       "      <td>2015-03-02</td>\n",
       "      <td>0.8654</td>\n",
       "      <td>2.3998</td>\n",
       "      <td>101.7399</td>\n",
       "      <td>1527.246</td>\n",
       "      <td>0.97</td>\n",
       "    </tr>\n",
       "    <tr>\n",
       "      <th>SRCL</th>\n",
       "      <td>2015-03-31</td>\n",
       "      <td>2015-05-07</td>\n",
       "      <td>0.8079</td>\n",
       "      <td>0.8585</td>\n",
       "      <td>-70.3260</td>\n",
       "      <td>1462.177</td>\n",
       "      <td>0.34</td>\n",
       "    </tr>\n",
       "    <tr>\n",
       "      <th>SRCL</th>\n",
       "      <td>2015-06-30</td>\n",
       "      <td>2015-08-05</td>\n",
       "      <td>0.8416</td>\n",
       "      <td>2.5073</td>\n",
       "      <td>-10.3911</td>\n",
       "      <td>1538.736</td>\n",
       "      <td>1.02</td>\n",
       "    </tr>\n",
       "    <tr>\n",
       "      <th>...</th>\n",
       "      <td>...</td>\n",
       "      <td>...</td>\n",
       "      <td>...</td>\n",
       "      <td>...</td>\n",
       "      <td>...</td>\n",
       "      <td>...</td>\n",
       "      <td>...</td>\n",
       "    </tr>\n",
       "    <tr>\n",
       "      <th>SXC</th>\n",
       "      <td>2020-12-31</td>\n",
       "      <td>2021-02-25</td>\n",
       "      <td>1.3514</td>\n",
       "      <td>-0.2979</td>\n",
       "      <td>-48.9000</td>\n",
       "      <td>673.900</td>\n",
       "      <td>-0.07</td>\n",
       "    </tr>\n",
       "    <tr>\n",
       "      <th>SXC</th>\n",
       "      <td>2021-03-31</td>\n",
       "      <td>2021-04-28</td>\n",
       "      <td>1.2563</td>\n",
       "      <td>1.5762</td>\n",
       "      <td>-0.7000</td>\n",
       "      <td>641.600</td>\n",
       "      <td>0.20</td>\n",
       "    </tr>\n",
       "    <tr>\n",
       "      <th>SXC</th>\n",
       "      <td>2021-06-30</td>\n",
       "      <td>2021-07-29</td>\n",
       "      <td>1.2980</td>\n",
       "      <td>-0.6502</td>\n",
       "      <td>-110.7000</td>\n",
       "      <td>650.200</td>\n",
       "      <td>-0.11</td>\n",
       "    </tr>\n",
       "    <tr>\n",
       "      <th>SXC</th>\n",
       "      <td>2021-09-30</td>\n",
       "      <td>2021-11-01</td>\n",
       "      <td>1.1474</td>\n",
       "      <td>2.1489</td>\n",
       "      <td>-111.5000</td>\n",
       "      <td>597.800</td>\n",
       "      <td>0.27</td>\n",
       "    </tr>\n",
       "    <tr>\n",
       "      <th>SXC</th>\n",
       "      <td>2021-12-31</td>\n",
       "      <td>2022-02-24</td>\n",
       "      <td>1.1461</td>\n",
       "      <td>1.2219</td>\n",
       "      <td>-112.2000</td>\n",
       "      <td>610.400</td>\n",
       "      <td>0.16</td>\n",
       "    </tr>\n",
       "  </tbody>\n",
       "</table>\n",
       "<p>30938 rows × 7 columns</p>\n",
       "</div>"
      ],
      "text/plain": [
       "       per_end_date filing_date  tot_debt_tot_equity  ret_invst  \\\n",
       "ticker                                                            \n",
       "SRCL     2014-06-30  2014-08-07               0.9260     2.4201   \n",
       "SRCL     2014-09-30  2014-11-07               0.8921     2.4478   \n",
       "SRCL     2014-12-31  2015-03-02               0.8654     2.3998   \n",
       "SRCL     2015-03-31  2015-05-07               0.8079     0.8585   \n",
       "SRCL     2015-06-30  2015-08-05               0.8416     2.5073   \n",
       "...             ...         ...                  ...        ...   \n",
       "SXC      2020-12-31  2021-02-25               1.3514    -0.2979   \n",
       "SXC      2021-03-31  2021-04-28               1.2563     1.5762   \n",
       "SXC      2021-06-30  2021-07-29               1.2980    -0.6502   \n",
       "SXC      2021-09-30  2021-11-01               1.1474     2.1489   \n",
       "SXC      2021-12-31  2022-02-24               1.1461     1.2219   \n",
       "\n",
       "        net_lterm_debt  tot_lterm_debt  eps_diluted_net  \n",
       "ticker                                                   \n",
       "SRCL          182.6799        1563.913             0.95  \n",
       "SRCL          141.5759        1512.333             0.96  \n",
       "SRCL          101.7399        1527.246             0.97  \n",
       "SRCL          -70.3260        1462.177             0.34  \n",
       "SRCL          -10.3911        1538.736             1.02  \n",
       "...                ...             ...              ...  \n",
       "SXC           -48.9000         673.900            -0.07  \n",
       "SXC            -0.7000         641.600             0.20  \n",
       "SXC          -110.7000         650.200            -0.11  \n",
       "SXC          -111.5000         597.800             0.27  \n",
       "SXC          -112.2000         610.400             0.16  \n",
       "\n",
       "[30938 rows x 7 columns]"
      ]
     },
     "execution_count": 355,
     "metadata": {},
     "output_type": "execute_result"
    }
   ],
   "source": [
    "filtered_df"
   ]
  },
  {
   "attachments": {},
   "cell_type": "markdown",
   "metadata": {},
   "source": [
    "Dealing with Shares"
   ]
  },
  {
   "cell_type": "code",
   "execution_count": 356,
   "metadata": {},
   "outputs": [],
   "source": [
    "SHRS = pd.read_csv(\"C:/Users/thoma/Downloads/ZACKS_SHRS_2_99db6fa97ac677f3c0d45a9fa9a70196\\ZACKS_SHRS_2_99db6fa97ac677f3c0d45a9fa9a70196.csv\")\n",
    "SHRS = SHRS[['ticker', 'per_end_date', 'shares_out']]"
   ]
  },
  {
   "cell_type": "code",
   "execution_count": 357,
   "metadata": {},
   "outputs": [],
   "source": [
    "SHRS = SHRS.set_index('ticker')"
   ]
  },
  {
   "attachments": {},
   "cell_type": "markdown",
   "metadata": {},
   "source": [
    "Dealing with market value"
   ]
  },
  {
   "cell_type": "code",
   "execution_count": 358,
   "metadata": {},
   "outputs": [],
   "source": [
    "MKTV = pd.read_csv(\"C:/Users/thoma/Downloads/ZACKS_MKTV_2_ecb7f768974bbdd26964caefe2fd0378\\ZACKS_MKTV_2_ecb7f768974bbdd26964caefe2fd0378.csv\")\n",
    "MKTV = MKTV[['ticker', 'per_end_date', 'mkt_val']]"
   ]
  },
  {
   "cell_type": "code",
   "execution_count": 359,
   "metadata": {},
   "outputs": [],
   "source": [
    "MKTV['per_end_date'] = pd.to_datetime(MKTV['per_end_date'])"
   ]
  },
  {
   "cell_type": "code",
   "execution_count": 360,
   "metadata": {},
   "outputs": [],
   "source": [
    "filtered_df = pd.merge(filtered_df, MKTV, left_on = ['ticker', 'per_end_date'], right_on = ['ticker', 'per_end_date'])"
   ]
  },
  {
   "attachments": {},
   "cell_type": "markdown",
   "metadata": {},
   "source": [
    "Turning EPS all positive"
   ]
  },
  {
   "cell_type": "code",
   "execution_count": 361,
   "metadata": {},
   "outputs": [],
   "source": [
    "filtered_df.loc[:, 'eps_diluted_net'] = filtered_df.loc[:, 'eps_diluted_net'].where(filtered_df.loc[:, 'eps_diluted_net'] >= 0, 0.001)"
   ]
  },
  {
   "cell_type": "code",
   "execution_count": 362,
   "metadata": {},
   "outputs": [],
   "source": [
    "filtered_df = filtered_df.set_index('ticker')"
   ]
  },
  {
   "cell_type": "code",
   "execution_count": 363,
   "metadata": {},
   "outputs": [],
   "source": [
    "filtered_df['filing_date'] = filtered_df['filing_date'] + DateOffset(days=1)"
   ]
  },
  {
   "attachments": {},
   "cell_type": "markdown",
   "metadata": {},
   "source": [
    "import price data"
   ]
  },
  {
   "cell_type": "code",
   "execution_count": 364,
   "metadata": {},
   "outputs": [
    {
     "name": "stderr",
     "output_type": "stream",
     "text": [
      "100%|██████████| 1012/1012 [11:03<00:00,  1.53it/s]\n"
     ]
    }
   ],
   "source": [
    "eod_price = quandl.get_table('QUOTEMEDIA/PRICES', ticker = ['AAPL'], api_key = 'uoxc6V3s61czWuHoGLcs',\n",
    "                    qopts = { 'columns': ['ticker', 'date', 'adj_close'] }, \n",
    "                    date = { 'gte': '2014-08-01', 'lte': '2022-02-01' }, \n",
    "                     paginate=True).set_index('date')[['adj_close']]\n",
    "for ticker in tqdm(unique_tickers):\n",
    "    df =  quandl.get_table('QUOTEMEDIA/PRICES', ticker = [ticker], api_key = 'uoxc6V3s61czWuHoGLcs',\n",
    "                    qopts = { 'columns': ['ticker', 'date', 'adj_close'] }, \n",
    "                    date = { 'gte': '2014-08-01', 'lte': '2022-02-01' }, \n",
    "                     paginate=True)\n",
    "    eod_price = eod_price.append(df)\n"
   ]
  },
  {
   "cell_type": "code",
   "execution_count": 365,
   "metadata": {},
   "outputs": [],
   "source": [
    "eod_price = eod_price[['ticker', 'date', 'adj_close']]"
   ]
  },
  {
   "cell_type": "code",
   "execution_count": 366,
   "metadata": {},
   "outputs": [],
   "source": [
    "eod_price.dropna(axis=0, how='any', subset=['ticker'], inplace=True)"
   ]
  },
  {
   "cell_type": "code",
   "execution_count": 367,
   "metadata": {},
   "outputs": [],
   "source": [
    "eod_price = eod_price.sort_values(by='date')"
   ]
  },
  {
   "cell_type": "code",
   "execution_count": 368,
   "metadata": {},
   "outputs": [],
   "source": [
    "filtered_df = filtered_df.sort_values(by = 'filing_date')\n",
    "filtered_df['date'] = filtered_df['filing_date']"
   ]
  },
  {
   "cell_type": "code",
   "execution_count": 369,
   "metadata": {},
   "outputs": [],
   "source": [
    "n =pd.merge_asof(eod_price, filtered_df, by = 'ticker', left_on = 'date', right_on = 'date')"
   ]
  },
  {
   "cell_type": "code",
   "execution_count": 370,
   "metadata": {},
   "outputs": [],
   "source": [
    "n = n.set_index('ticker')"
   ]
  },
  {
   "cell_type": "code",
   "execution_count": 371,
   "metadata": {},
   "outputs": [],
   "source": [
    "LLY = n.loc['LLY']"
   ]
  },
  {
   "cell_type": "code",
   "execution_count": 372,
   "metadata": {},
   "outputs": [],
   "source": [
    "n = n.reset_index()"
   ]
  },
  {
   "cell_type": "code",
   "execution_count": 373,
   "metadata": {},
   "outputs": [],
   "source": [
    "tickers = n['ticker'].unique().tolist()"
   ]
  },
  {
   "cell_type": "code",
   "execution_count": 374,
   "metadata": {},
   "outputs": [],
   "source": [
    "n = n.set_index('ticker')"
   ]
  },
  {
   "cell_type": "code",
   "execution_count": 375,
   "metadata": {},
   "outputs": [],
   "source": [
    "n['net_lterm_debt'] = n['net_lterm_debt'].fillna(n['tot_lterm_debt'])\n",
    "n['net_lterm_debt'] = n['net_lterm_debt'].fillna(0)"
   ]
  },
  {
   "attachments": {},
   "cell_type": "markdown",
   "metadata": {},
   "source": [
    "Loop to get my ratios"
   ]
  },
  {
   "cell_type": "code",
   "execution_count": 379,
   "metadata": {},
   "outputs": [],
   "source": [
    "LLY = n.loc['LLY']"
   ]
  },
  {
   "cell_type": "code",
   "execution_count": 400,
   "metadata": {},
   "outputs": [
    {
     "name": "stderr",
     "output_type": "stream",
     "text": [
      "100%|██████████| 972/972 [01:36<00:00, 10.04it/s]\n"
     ]
    }
   ],
   "source": [
    "f = pd.DataFrame()\n",
    "for ticker in tqdm(tickers):\n",
    "    df = n.loc[ticker]\n",
    "    df['date'] = pd.to_datetime(df['date'])\n",
    "    df['per_end_date'] = pd.to_datetime(df['per_end_date'])\n",
    "    df = df.merge(df, left_on='per_end_date', right_on='date')\n",
    "    df = df.rename(columns = {'adj_close_y': 'per_end_price'})\n",
    "    df['debt_to_market_cap'] = df['tot_debt_tot_equity_x']*df['per_end_price']/df['adj_close_x']\n",
    "    df['price_to_earnings'] = df['adj_close_x']/df['eps_diluted_net_x']\n",
    "    df['R'] = (df['ret_invst_x']*(df['net_lterm_debt_y'] + (df['mkt_val_x'])))\n",
    "    df['ROI'] = df['R']/(df['net_lterm_debt_y']+df['mkt_val_x']*df['adj_close_x']/df['per_end_price']) \n",
    "    df['ticker'] = ticker\n",
    "    f = f.append(df)\n",
    "    f = f[['date_x', 'adj_close_x', 'debt_to_market_cap', 'price_to_earnings', 'ROI']]\n",
    "    f = f.rename(columns = {'date_x': 'date', 'adj_close_x': 'price'})"
   ]
  },
  {
   "cell_type": "code",
   "execution_count": 411,
   "metadata": {},
   "outputs": [],
   "source": [
    "f.to_csv('hw_3_ratio_data.csv')"
   ]
  }
 ],
 "metadata": {
  "kernelspec": {
   "display_name": "Python 3",
   "language": "python",
   "name": "python3"
  },
  "language_info": {
   "codemirror_mode": {
    "name": "ipython",
    "version": 3
   },
   "file_extension": ".py",
   "mimetype": "text/x-python",
   "name": "python",
   "nbconvert_exporter": "python",
   "pygments_lexer": "ipython3",
   "version": "3.11.1"
  },
  "orig_nbformat": 4,
  "vscode": {
   "interpreter": {
    "hash": "306c8db229f0a89c06d03772a1eff5479204b8baa09cdbdfc80c0ee3ff96995d"
   }
  }
 },
 "nbformat": 4,
 "nbformat_minor": 2
}
