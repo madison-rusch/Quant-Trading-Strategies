{
 "cells": [
  {
   "cell_type": "code",
   "execution_count": 17,
   "metadata": {},
   "outputs": [],
   "source": [
    "import matplotlib.pyplot as plt\n",
    "import pandas as pd\n",
    "import numpy as np\n",
    "import scipy as sp\n",
    "import quandl\n",
    "import functools\n",
    "import seaborn as sns\n",
    "import plotnine as p9\n",
    "from datetime import datetime\n",
    "from datetime import timedelta\n",
    "from tqdm import tqdm\n",
    "\n",
    "\n",
    "import warnings\n",
    "\n",
    "# Suppress the warning\n",
    "warnings.filterwarnings(\"ignore\")"
   ]
  },
  {
   "cell_type": "code",
   "execution_count": 18,
   "metadata": {},
   "outputs": [],
   "source": [
    "FC = pd.read_csv('/Users/tmac/Downloads/ZACKS_FC_2_76e4bece47ce87cb8f221f639c7f829b.zip')\n",
    "FC = FC[['ticker','diluted_net_eps', 'per_end_date', 'filing_date']]\n",
    "FC = FC.set_index('ticker')"
   ]
  },
  {
   "cell_type": "code",
   "execution_count": 19,
   "metadata": {},
   "outputs": [],
   "source": [
    "x = FC.loc['LLY']"
   ]
  },
  {
   "cell_type": "code",
   "execution_count": 20,
   "metadata": {},
   "outputs": [],
   "source": [
    "eps_old = pd.read_csv('/Users/tmac/Desktop/Quant-Trading-Strategies/eps.csv')"
   ]
  },
  {
   "cell_type": "code",
   "execution_count": 21,
   "metadata": {},
   "outputs": [],
   "source": [
    "tickers = eps_old.columns.to_list()"
   ]
  },
  {
   "cell_type": "code",
   "execution_count": 22,
   "metadata": {},
   "outputs": [],
   "source": [
    "date_range = pd.date_range(start='7/17/2014', end='02/01/2022', freq='D')\n",
    "\n",
    "# Create a blank DataFrame with the date range as the index\n",
    "eps = pd.DataFrame(index=date_range)\n",
    "\n",
    "# Add columns from final_price_data\n",
    "eps[eps_old.columns] = None\n",
    "\n",
    "eps = eps.rename_axis('filing_date')"
   ]
  },
  {
   "cell_type": "code",
   "execution_count": 26,
   "metadata": {},
   "outputs": [
    {
     "data": {
      "text/html": [
       "<div>\n",
       "<style scoped>\n",
       "    .dataframe tbody tr th:only-of-type {\n",
       "        vertical-align: middle;\n",
       "    }\n",
       "\n",
       "    .dataframe tbody tr th {\n",
       "        vertical-align: top;\n",
       "    }\n",
       "\n",
       "    .dataframe thead th {\n",
       "        text-align: right;\n",
       "    }\n",
       "</style>\n",
       "<table border=\"1\" class=\"dataframe\">\n",
       "  <thead>\n",
       "    <tr style=\"text-align: right;\">\n",
       "      <th></th>\n",
       "      <th>diluted_net_eps</th>\n",
       "      <th>per_end_date</th>\n",
       "      <th>filing_date</th>\n",
       "    </tr>\n",
       "    <tr>\n",
       "      <th>ticker</th>\n",
       "      <th></th>\n",
       "      <th></th>\n",
       "      <th></th>\n",
       "    </tr>\n",
       "  </thead>\n",
       "  <tbody>\n",
       "    <tr>\n",
       "      <th>3262Q</th>\n",
       "      <td>NaN</td>\n",
       "      <td>2006-12-31</td>\n",
       "      <td>NaN</td>\n",
       "    </tr>\n",
       "    <tr>\n",
       "      <th>3262Q</th>\n",
       "      <td>NaN</td>\n",
       "      <td>2007-12-31</td>\n",
       "      <td>NaN</td>\n",
       "    </tr>\n",
       "    <tr>\n",
       "      <th>3262Q</th>\n",
       "      <td>NaN</td>\n",
       "      <td>2008-12-31</td>\n",
       "      <td>NaN</td>\n",
       "    </tr>\n",
       "    <tr>\n",
       "      <th>3262Q</th>\n",
       "      <td>NaN</td>\n",
       "      <td>2009-12-31</td>\n",
       "      <td>NaN</td>\n",
       "    </tr>\n",
       "    <tr>\n",
       "      <th>3262Q</th>\n",
       "      <td>NaN</td>\n",
       "      <td>2010-12-31</td>\n",
       "      <td>NaN</td>\n",
       "    </tr>\n",
       "    <tr>\n",
       "      <th>...</th>\n",
       "      <td>...</td>\n",
       "      <td>...</td>\n",
       "      <td>...</td>\n",
       "    </tr>\n",
       "    <tr>\n",
       "      <th>ZZLL</th>\n",
       "      <td>NaN</td>\n",
       "      <td>2021-09-30</td>\n",
       "      <td>2021-11-22</td>\n",
       "    </tr>\n",
       "    <tr>\n",
       "      <th>ZZLL</th>\n",
       "      <td>NaN</td>\n",
       "      <td>2021-12-31</td>\n",
       "      <td>2022-04-15</td>\n",
       "    </tr>\n",
       "    <tr>\n",
       "      <th>ZZLL</th>\n",
       "      <td>NaN</td>\n",
       "      <td>2022-03-31</td>\n",
       "      <td>2022-08-01</td>\n",
       "    </tr>\n",
       "    <tr>\n",
       "      <th>ZZLL</th>\n",
       "      <td>NaN</td>\n",
       "      <td>2022-06-30</td>\n",
       "      <td>2022-10-06</td>\n",
       "    </tr>\n",
       "    <tr>\n",
       "      <th>ZZLL</th>\n",
       "      <td>NaN</td>\n",
       "      <td>2022-09-30</td>\n",
       "      <td>2022-11-14</td>\n",
       "    </tr>\n",
       "  </tbody>\n",
       "</table>\n",
       "<p>613256 rows × 3 columns</p>\n",
       "</div>"
      ],
      "text/plain": [
       "        diluted_net_eps per_end_date filing_date\n",
       "ticker                                          \n",
       "3262Q               NaN   2006-12-31         NaN\n",
       "3262Q               NaN   2007-12-31         NaN\n",
       "3262Q               NaN   2008-12-31         NaN\n",
       "3262Q               NaN   2009-12-31         NaN\n",
       "3262Q               NaN   2010-12-31         NaN\n",
       "...                 ...          ...         ...\n",
       "ZZLL                NaN   2021-09-30  2021-11-22\n",
       "ZZLL                NaN   2021-12-31  2022-04-15\n",
       "ZZLL                NaN   2022-03-31  2022-08-01\n",
       "ZZLL                NaN   2022-06-30  2022-10-06\n",
       "ZZLL                NaN   2022-09-30  2022-11-14\n",
       "\n",
       "[613256 rows x 3 columns]"
      ]
     },
     "execution_count": 26,
     "metadata": {},
     "output_type": "execute_result"
    }
   ],
   "source": [
    "FC"
   ]
  },
  {
   "cell_type": "code",
   "execution_count": 30,
   "metadata": {},
   "outputs": [
    {
     "name": "stderr",
     "output_type": "stream",
     "text": [
      "100%|██████████| 4478/4478 [05:43<00:00, 13.04it/s]\n"
     ]
    }
   ],
   "source": [
    "pivot_table_eps = FC.pivot_table(values='diluted_net_eps', index='filing_date', columns='ticker')\n",
    "pivot_table_eps = pivot_table_eps.reindex(columns = eps.columns)\n",
    "for i in tqdm(pivot_table_eps.index):\n",
    "    for ticker in pivot_table_eps.columns:\n",
    "        eps[ticker][i] = pivot_table_eps[ticker][i]\n",
    "eps.ffill(inplace=True)\n",
    "eps = eps[eps.index >= datetime(2015, 1, 1)]"
   ]
  },
  {
   "cell_type": "code",
   "execution_count": 35,
   "metadata": {},
   "outputs": [],
   "source": [
    "eps = eps.drop(eps.columns[0], axis=1)"
   ]
  },
  {
   "cell_type": "code",
   "execution_count": 36,
   "metadata": {},
   "outputs": [],
   "source": [
    "eps.to_csv('eps.csv')"
   ]
  },
  {
   "cell_type": "code",
   "execution_count": 37,
   "metadata": {},
   "outputs": [],
   "source": [
    "# Create a date range for the index\n",
    "date_range = pd.date_range(start='7/17/2014', end='02/01/2022', freq='D')\n",
    "\n",
    "# Create a blank DataFrame with the date range as the index\n",
    "lt_debt = pd.DataFrame(index=date_range)\n",
    "\n",
    "# Add columns from final_price_data\n",
    "lt_debt[eps.columns] = None\n",
    "\n",
    "lt_debt = lt_debt.rename_axis('filing_date')"
   ]
  },
  {
   "cell_type": "code",
   "execution_count": 45,
   "metadata": {},
   "outputs": [],
   "source": [
    "FC = pd.read_csv('/Users/tmac/Downloads/ZACKS_FC_2_76e4bece47ce87cb8f221f639c7f829b.zip')\n",
    "FC = FC[['ticker','net_lterm_debt', 'per_end_date', 'filing_date']]"
   ]
  },
  {
   "cell_type": "code",
   "execution_count": 46,
   "metadata": {},
   "outputs": [],
   "source": [
    "FC = FC.set_index('ticker')"
   ]
  },
  {
   "cell_type": "code",
   "execution_count": 48,
   "metadata": {},
   "outputs": [],
   "source": [
    "tickers = eps.columns.to_list()"
   ]
  },
  {
   "cell_type": "code",
   "execution_count": 50,
   "metadata": {},
   "outputs": [
    {
     "name": "stderr",
     "output_type": "stream",
     "text": [
      "100%|██████████| 4468/4468 [05:40<00:00, 13.14it/s]\n"
     ]
    }
   ],
   "source": [
    "pivot_table_lt_debt = FC.pivot_table(values='net_lterm_debt', index='filing_date', columns='ticker')\n",
    "pivot_table_lt_debt = pivot_table_lt_debt.reindex(columns = eps.columns)\n",
    "for i in tqdm(pivot_table_lt_debt.index):\n",
    "    for ticker in pivot_table_lt_debt.columns:\n",
    "        lt_debt[ticker][i] = pivot_table_lt_debt[ticker][i]\n",
    "lt_debt.ffill(inplace=True)\n",
    "lt_debt = lt_debt[lt_debt.index >= datetime(2015, 1, 1)]"
   ]
  },
  {
   "cell_type": "code",
   "execution_count": 54,
   "metadata": {},
   "outputs": [],
   "source": [
    "lt_debt.to_csv('lt_debt.to_csv')"
   ]
  }
 ],
 "metadata": {
  "kernelspec": {
   "display_name": "Python 3",
   "language": "python",
   "name": "python3"
  },
  "language_info": {
   "codemirror_mode": {
    "name": "ipython",
    "version": 3
   },
   "file_extension": ".py",
   "mimetype": "text/x-python",
   "name": "python",
   "nbconvert_exporter": "python",
   "pygments_lexer": "ipython3",
   "version": "3.9.5"
  },
  "orig_nbformat": 4,
  "vscode": {
   "interpreter": {
    "hash": "aee8b7b246df8f9039afb4144a1f6fd8d2ca17a180786b69acc140d282b71a49"
   }
  }
 },
 "nbformat": 4,
 "nbformat_minor": 2
}
