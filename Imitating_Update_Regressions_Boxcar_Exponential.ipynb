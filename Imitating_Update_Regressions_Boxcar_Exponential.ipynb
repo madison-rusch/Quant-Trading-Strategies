{
 "cells": [
  {
   "cell_type": "markdown",
   "metadata": {},
   "source": [
    "# Update Regression Imitations Using StatsModels in Python"
   ]
  },
  {
   "cell_type": "markdown",
   "metadata": {},
   "source": [
    "In **R** rolling regressions are quite easy to obtain.  Python APIs are trickier.  Here we demonstrate obtaining the equivalent to rolling regression output regressions using `statsmodels` basic regression routines.\n",
    "\n",
    "The techniques here do *not* use Sherman-Morrison updates and are therefore quite unsuitable to treating high-frequency data.  Thus these examples have output that is numerically correct, but not computationally correct in cases where we desire the proper efficient calculations."
   ]
  },
  {
   "cell_type": "markdown",
   "metadata": {},
   "source": [
    "## Imports And Data"
   ]
  },
  {
   "cell_type": "code",
   "execution_count": 1,
   "metadata": {
    "ExecuteTime": {
     "end_time": "2023-02-12T00:04:19.465792Z",
     "start_time": "2023-02-12T00:04:17.887002Z"
    }
   },
   "outputs": [],
   "source": [
    "%matplotlib inline\n"
   ]
  },
  {
   "cell_type": "code",
   "execution_count": 2,
   "metadata": {
    "ExecuteTime": {
     "end_time": "2023-02-12T00:04:20.660084Z",
     "start_time": "2023-02-12T00:04:19.467885Z"
    }
   },
   "outputs": [],
   "source": [
    "import numpy as np\n",
    "import scipy as sp\n",
    "import statsmodels.regression.rolling as sm_roll_reg\n",
    "import pandas as pd\n"
   ]
  },
  {
   "cell_type": "code",
   "execution_count": 3,
   "metadata": {
    "ExecuteTime": {
     "end_time": "2023-02-12T00:04:22.602677Z",
     "start_time": "2023-02-12T00:04:20.661753Z"
    }
   },
   "outputs": [],
   "source": [
    "import finm_teaching_utils  # You will use your own code"
   ]
  },
  {
   "cell_type": "code",
   "execution_count": 4,
   "metadata": {
    "ExecuteTime": {
     "end_time": "2023-02-12T00:04:23.299074Z",
     "start_time": "2023-02-12T00:04:22.605159Z"
    }
   },
   "outputs": [],
   "source": [
    "import rpy2.ipython"
   ]
  },
  {
   "cell_type": "code",
   "execution_count": 5,
   "metadata": {
    "ExecuteTime": {
     "end_time": "2023-02-12T00:04:23.304021Z",
     "start_time": "2023-02-12T00:04:23.301118Z"
    }
   },
   "outputs": [],
   "source": [
    "%load_ext rpy2.ipython"
   ]
  },
  {
   "cell_type": "code",
   "execution_count": 6,
   "metadata": {
    "ExecuteTime": {
     "end_time": "2023-02-12T00:06:08.839110Z",
     "start_time": "2023-02-12T00:04:23.305727Z"
    }
   },
   "outputs": [
    {
     "name": "stdout",
     "output_type": "stream",
     "text": [
      "Skipping any possible download of QUOTEMEDIA/PRICES\n",
      "Reading CSV file /Users/brian/quandl_data_table_downloads/QUOTEMEDIA/PRICES_latest.zip\n",
      "Sorting prices\n"
     ]
    }
   ],
   "source": [
    "all_equity_prices = finm_teaching_utils.cached_fetch.fetch_quotemedia_prices()"
   ]
  },
  {
   "cell_type": "code",
   "execution_count": 7,
   "metadata": {
    "ExecuteTime": {
     "end_time": "2023-02-12T00:06:09.536656Z",
     "start_time": "2023-02-12T00:06:08.841076Z"
    }
   },
   "outputs": [],
   "source": [
    "_ddists = (all_equity_prices.index.get_level_values('Date')-pd.Timestamp('2023-01-01'))\n",
    "equity_prices = all_equity_prices.loc[(_ddists<pd.Timedelta(days=30)) & (_ddists>=pd.Timedelta(days=-30))]"
   ]
  },
  {
   "cell_type": "code",
   "execution_count": 8,
   "metadata": {
    "ExecuteTime": {
     "end_time": "2023-02-12T00:06:09.572112Z",
     "start_time": "2023-02-12T00:06:09.538294Z"
    }
   },
   "outputs": [
    {
     "data": {
      "text/html": [
       "<div>\n",
       "<style scoped>\n",
       "    .dataframe tbody tr th:only-of-type {\n",
       "        vertical-align: middle;\n",
       "    }\n",
       "\n",
       "    .dataframe tbody tr th {\n",
       "        vertical-align: top;\n",
       "    }\n",
       "\n",
       "    .dataframe thead th {\n",
       "        text-align: right;\n",
       "    }\n",
       "</style>\n",
       "<table border=\"1\" class=\"dataframe\">\n",
       "  <thead>\n",
       "    <tr style=\"text-align: right;\">\n",
       "      <th>ticker</th>\n",
       "      <th>SPY</th>\n",
       "      <th>SUN</th>\n",
       "      <th>XOM</th>\n",
       "    </tr>\n",
       "    <tr>\n",
       "      <th>Date</th>\n",
       "      <th></th>\n",
       "      <th></th>\n",
       "      <th></th>\n",
       "    </tr>\n",
       "  </thead>\n",
       "  <tbody>\n",
       "    <tr>\n",
       "      <th>2022-12-05</th>\n",
       "      <td>-0.017989</td>\n",
       "      <td>-0.020308</td>\n",
       "      <td>-0.027399</td>\n",
       "    </tr>\n",
       "    <tr>\n",
       "      <th>2022-12-06</th>\n",
       "      <td>-0.014415</td>\n",
       "      <td>0.018585</td>\n",
       "      <td>-0.027796</td>\n",
       "    </tr>\n",
       "    <tr>\n",
       "      <th>2022-12-07</th>\n",
       "      <td>-0.001701</td>\n",
       "      <td>0.015673</td>\n",
       "      <td>-0.002214</td>\n",
       "    </tr>\n",
       "    <tr>\n",
       "      <th>2022-12-08</th>\n",
       "      <td>0.007834</td>\n",
       "      <td>-0.010594</td>\n",
       "      <td>0.007429</td>\n",
       "    </tr>\n",
       "    <tr>\n",
       "      <th>2022-12-09</th>\n",
       "      <td>-0.007470</td>\n",
       "      <td>0.010009</td>\n",
       "      <td>-0.008428</td>\n",
       "    </tr>\n",
       "    <tr>\n",
       "      <th>2022-12-12</th>\n",
       "      <td>0.014417</td>\n",
       "      <td>0.009449</td>\n",
       "      <td>0.024628</td>\n",
       "    </tr>\n",
       "    <tr>\n",
       "      <th>2022-12-13</th>\n",
       "      <td>0.007570</td>\n",
       "      <td>0.008904</td>\n",
       "      <td>0.010934</td>\n",
       "    </tr>\n",
       "    <tr>\n",
       "      <th>2022-12-14</th>\n",
       "      <td>-0.006394</td>\n",
       "      <td>-0.009052</td>\n",
       "      <td>-0.007366</td>\n",
       "    </tr>\n",
       "    <tr>\n",
       "      <th>2022-12-15</th>\n",
       "      <td>-0.024462</td>\n",
       "      <td>0.000685</td>\n",
       "      <td>-0.009581</td>\n",
       "    </tr>\n",
       "    <tr>\n",
       "      <th>2022-12-16</th>\n",
       "      <td>-0.016323</td>\n",
       "      <td>-0.022136</td>\n",
       "      <td>-0.007018</td>\n",
       "    </tr>\n",
       "    <tr>\n",
       "      <th>2022-12-19</th>\n",
       "      <td>-0.008480</td>\n",
       "      <td>-0.019370</td>\n",
       "      <td>0.004489</td>\n",
       "    </tr>\n",
       "    <tr>\n",
       "      <th>2022-12-20</th>\n",
       "      <td>0.001368</td>\n",
       "      <td>0.006426</td>\n",
       "      <td>0.014453</td>\n",
       "    </tr>\n",
       "    <tr>\n",
       "      <th>2022-12-21</th>\n",
       "      <td>0.014952</td>\n",
       "      <td>0.003310</td>\n",
       "      <td>0.012841</td>\n",
       "    </tr>\n",
       "    <tr>\n",
       "      <th>2022-12-22</th>\n",
       "      <td>-0.014266</td>\n",
       "      <td>-0.007778</td>\n",
       "      <td>-0.020174</td>\n",
       "    </tr>\n",
       "    <tr>\n",
       "      <th>2022-12-23</th>\n",
       "      <td>0.005752</td>\n",
       "      <td>0.026603</td>\n",
       "      <td>0.026445</td>\n",
       "    </tr>\n",
       "    <tr>\n",
       "      <th>2022-12-27</th>\n",
       "      <td>-0.003943</td>\n",
       "      <td>-0.005553</td>\n",
       "      <td>0.013894</td>\n",
       "    </tr>\n",
       "    <tr>\n",
       "      <th>2022-12-28</th>\n",
       "      <td>-0.012428</td>\n",
       "      <td>0.000931</td>\n",
       "      <td>-0.016426</td>\n",
       "    </tr>\n",
       "    <tr>\n",
       "      <th>2022-12-29</th>\n",
       "      <td>0.018000</td>\n",
       "      <td>0.001395</td>\n",
       "      <td>0.007566</td>\n",
       "    </tr>\n",
       "    <tr>\n",
       "      <th>2022-12-30</th>\n",
       "      <td>-0.002634</td>\n",
       "      <td>0.000464</td>\n",
       "      <td>0.010073</td>\n",
       "    </tr>\n",
       "    <tr>\n",
       "      <th>2023-01-03</th>\n",
       "      <td>-0.004210</td>\n",
       "      <td>-0.003480</td>\n",
       "      <td>-0.034361</td>\n",
       "    </tr>\n",
       "    <tr>\n",
       "      <th>2023-01-04</th>\n",
       "      <td>0.007720</td>\n",
       "      <td>-0.001863</td>\n",
       "      <td>0.002911</td>\n",
       "    </tr>\n",
       "    <tr>\n",
       "      <th>2023-01-05</th>\n",
       "      <td>-0.011413</td>\n",
       "      <td>0.013063</td>\n",
       "      <td>0.022374</td>\n",
       "    </tr>\n",
       "    <tr>\n",
       "      <th>2023-01-06</th>\n",
       "      <td>0.022932</td>\n",
       "      <td>0.010362</td>\n",
       "      <td>0.012087</td>\n",
       "    </tr>\n",
       "    <tr>\n",
       "      <th>2023-01-09</th>\n",
       "      <td>-0.000567</td>\n",
       "      <td>-0.001823</td>\n",
       "      <td>-0.018637</td>\n",
       "    </tr>\n",
       "    <tr>\n",
       "      <th>2023-01-10</th>\n",
       "      <td>0.007013</td>\n",
       "      <td>0.010274</td>\n",
       "      <td>0.014935</td>\n",
       "    </tr>\n",
       "    <tr>\n",
       "      <th>2023-01-11</th>\n",
       "      <td>0.012648</td>\n",
       "      <td>0.007232</td>\n",
       "      <td>0.011627</td>\n",
       "    </tr>\n",
       "    <tr>\n",
       "      <th>2023-01-12</th>\n",
       "      <td>0.003641</td>\n",
       "      <td>0.004712</td>\n",
       "      <td>0.016611</td>\n",
       "    </tr>\n",
       "  </tbody>\n",
       "</table>\n",
       "</div>"
      ],
      "text/plain": [
       "ticker           SPY       SUN       XOM\n",
       "Date                                    \n",
       "2022-12-05 -0.017989 -0.020308 -0.027399\n",
       "2022-12-06 -0.014415  0.018585 -0.027796\n",
       "2022-12-07 -0.001701  0.015673 -0.002214\n",
       "2022-12-08  0.007834 -0.010594  0.007429\n",
       "2022-12-09 -0.007470  0.010009 -0.008428\n",
       "2022-12-12  0.014417  0.009449  0.024628\n",
       "2022-12-13  0.007570  0.008904  0.010934\n",
       "2022-12-14 -0.006394 -0.009052 -0.007366\n",
       "2022-12-15 -0.024462  0.000685 -0.009581\n",
       "2022-12-16 -0.016323 -0.022136 -0.007018\n",
       "2022-12-19 -0.008480 -0.019370  0.004489\n",
       "2022-12-20  0.001368  0.006426  0.014453\n",
       "2022-12-21  0.014952  0.003310  0.012841\n",
       "2022-12-22 -0.014266 -0.007778 -0.020174\n",
       "2022-12-23  0.005752  0.026603  0.026445\n",
       "2022-12-27 -0.003943 -0.005553  0.013894\n",
       "2022-12-28 -0.012428  0.000931 -0.016426\n",
       "2022-12-29  0.018000  0.001395  0.007566\n",
       "2022-12-30 -0.002634  0.000464  0.010073\n",
       "2023-01-03 -0.004210 -0.003480 -0.034361\n",
       "2023-01-04  0.007720 -0.001863  0.002911\n",
       "2023-01-05 -0.011413  0.013063  0.022374\n",
       "2023-01-06  0.022932  0.010362  0.012087\n",
       "2023-01-09 -0.000567 -0.001823 -0.018637\n",
       "2023-01-10  0.007013  0.010274  0.014935\n",
       "2023-01-11  0.012648  0.007232  0.011627\n",
       "2023-01-12  0.003641  0.004712  0.016611"
      ]
     },
     "execution_count": 8,
     "metadata": {},
     "output_type": "execute_result"
    }
   ],
   "source": [
    "design_mx = equity_prices.loc[['SPY','SUN', 'XOM']].groupby(level='ticker').pct_change().unstack().transpose().dropna().loc['adj_close']\n",
    "design_mx"
   ]
  },
  {
   "cell_type": "markdown",
   "metadata": {},
   "source": [
    "## BoxCar"
   ]
  },
  {
   "cell_type": "code",
   "execution_count": 9,
   "metadata": {
    "ExecuteTime": {
     "end_time": "2023-02-12T00:06:09.616534Z",
     "start_time": "2023-02-12T00:06:09.574074Z"
    }
   },
   "outputs": [
    {
     "data": {
      "text/html": [
       "<div>\n",
       "<style scoped>\n",
       "    .dataframe tbody tr th:only-of-type {\n",
       "        vertical-align: middle;\n",
       "    }\n",
       "\n",
       "    .dataframe tbody tr th {\n",
       "        vertical-align: top;\n",
       "    }\n",
       "\n",
       "    .dataframe thead th {\n",
       "        text-align: right;\n",
       "    }\n",
       "</style>\n",
       "<table border=\"1\" class=\"dataframe\">\n",
       "  <thead>\n",
       "    <tr style=\"text-align: right;\">\n",
       "      <th></th>\n",
       "      <th>SPY</th>\n",
       "      <th>XOM</th>\n",
       "    </tr>\n",
       "  </thead>\n",
       "  <tbody>\n",
       "    <tr>\n",
       "      <th>2022-12-09</th>\n",
       "      <td>0.417535</td>\n",
       "      <td>-0.352496</td>\n",
       "    </tr>\n",
       "    <tr>\n",
       "      <th>2022-12-12</th>\n",
       "      <td>-1.589001</td>\n",
       "      <td>0.607671</td>\n",
       "    </tr>\n",
       "    <tr>\n",
       "      <th>2022-12-13</th>\n",
       "      <td>-4.288105</td>\n",
       "      <td>2.969486</td>\n",
       "    </tr>\n",
       "    <tr>\n",
       "      <th>2022-12-14</th>\n",
       "      <td>-2.914380</td>\n",
       "      <td>2.206185</td>\n",
       "    </tr>\n",
       "    <tr>\n",
       "      <th>2022-12-15</th>\n",
       "      <td>-0.268692</td>\n",
       "      <td>0.547106</td>\n",
       "    </tr>\n",
       "    <tr>\n",
       "      <th>2022-12-16</th>\n",
       "      <td>0.269980</td>\n",
       "      <td>0.347744</td>\n",
       "    </tr>\n",
       "  </tbody>\n",
       "</table>\n",
       "</div>"
      ],
      "text/plain": [
       "                 SPY       XOM\n",
       "2022-12-09  0.417535 -0.352496\n",
       "2022-12-12 -1.589001  0.607671\n",
       "2022-12-13 -4.288105  2.969486\n",
       "2022-12-14 -2.914380  2.206185\n",
       "2022-12-15 -0.268692  0.547106\n",
       "2022-12-16  0.269980  0.347744"
      ]
     },
     "execution_count": 9,
     "metadata": {},
     "output_type": "execute_result"
    }
   ],
   "source": [
    "import statsmodels.regression.linear_model as linreg\n",
    "\n",
    "def boxcar_5_reg(_df):\n",
    "    _p = linreg.OLS(_df['SUN'], _df[['SPY', 'XOM']]).fit(params_only=True).params\n",
    "    return pd.DataFrame(data=[_p], index=[_df.index[-1]])\n",
    "\n",
    "b_5_coeffs = pd.concat([boxcar_5_reg(design_mx.iloc[i-5:i]) for i in range(5, design_mx.shape[0])])\n",
    "b_5_coeffs.iloc[:6]"
   ]
  },
  {
   "cell_type": "markdown",
   "metadata": {},
   "source": [
    "### Checks"
   ]
  },
  {
   "cell_type": "markdown",
   "metadata": {},
   "source": [
    "Here we check the results of the Dec 13 output against a completely independent implementation from **R**"
   ]
  },
  {
   "cell_type": "code",
   "execution_count": 10,
   "metadata": {
    "ExecuteTime": {
     "end_time": "2023-02-12T00:06:09.626377Z",
     "start_time": "2023-02-12T00:06:09.620082Z"
    }
   },
   "outputs": [
    {
     "data": {
      "text/html": [
       "<div>\n",
       "<style scoped>\n",
       "    .dataframe tbody tr th:only-of-type {\n",
       "        vertical-align: middle;\n",
       "    }\n",
       "\n",
       "    .dataframe tbody tr th {\n",
       "        vertical-align: top;\n",
       "    }\n",
       "\n",
       "    .dataframe thead th {\n",
       "        text-align: right;\n",
       "    }\n",
       "</style>\n",
       "<table border=\"1\" class=\"dataframe\">\n",
       "  <thead>\n",
       "    <tr style=\"text-align: right;\">\n",
       "      <th>ticker</th>\n",
       "      <th>SPY</th>\n",
       "      <th>SUN</th>\n",
       "      <th>XOM</th>\n",
       "    </tr>\n",
       "    <tr>\n",
       "      <th>Date</th>\n",
       "      <th></th>\n",
       "      <th></th>\n",
       "      <th></th>\n",
       "    </tr>\n",
       "  </thead>\n",
       "  <tbody>\n",
       "    <tr>\n",
       "      <th>2022-12-07</th>\n",
       "      <td>-0.001701</td>\n",
       "      <td>0.015673</td>\n",
       "      <td>-0.002214</td>\n",
       "    </tr>\n",
       "    <tr>\n",
       "      <th>2022-12-08</th>\n",
       "      <td>0.007834</td>\n",
       "      <td>-0.010594</td>\n",
       "      <td>0.007429</td>\n",
       "    </tr>\n",
       "    <tr>\n",
       "      <th>2022-12-09</th>\n",
       "      <td>-0.007470</td>\n",
       "      <td>0.010009</td>\n",
       "      <td>-0.008428</td>\n",
       "    </tr>\n",
       "    <tr>\n",
       "      <th>2022-12-12</th>\n",
       "      <td>0.014417</td>\n",
       "      <td>0.009449</td>\n",
       "      <td>0.024628</td>\n",
       "    </tr>\n",
       "    <tr>\n",
       "      <th>2022-12-13</th>\n",
       "      <td>0.007570</td>\n",
       "      <td>0.008904</td>\n",
       "      <td>0.010934</td>\n",
       "    </tr>\n",
       "  </tbody>\n",
       "</table>\n",
       "</div>"
      ],
      "text/plain": [
       "ticker           SPY       SUN       XOM\n",
       "Date                                    \n",
       "2022-12-07 -0.001701  0.015673 -0.002214\n",
       "2022-12-08  0.007834 -0.010594  0.007429\n",
       "2022-12-09 -0.007470  0.010009 -0.008428\n",
       "2022-12-12  0.014417  0.009449  0.024628\n",
       "2022-12-13  0.007570  0.008904  0.010934"
      ]
     },
     "execution_count": 10,
     "metadata": {},
     "output_type": "execute_result"
    }
   ],
   "source": [
    "test5 = design_mx.loc[ pd.Timestamp('2022-12-07') : pd.Timestamp('2022-12-13') ]\n",
    "test5\n"
   ]
  },
  {
   "cell_type": "code",
   "execution_count": 11,
   "metadata": {
    "ExecuteTime": {
     "end_time": "2023-02-12T00:06:09.678415Z",
     "start_time": "2023-02-12T00:06:09.628212Z"
    }
   },
   "outputs": [
    {
     "name": "stdout",
     "output_type": "stream",
     "text": [
      "\n",
      "Call:\n",
      "lm(formula = SUN ~ SPY + XOM + 0, data = test5)\n",
      "\n",
      "Coefficients:\n",
      "   SPY     XOM  \n",
      "-4.288   2.969  \n",
      "\n"
     ]
    }
   ],
   "source": [
    "%%R -i test5\n",
    "\n",
    "lm(SUN~SPY+XOM+0, data=test5)"
   ]
  },
  {
   "cell_type": "code",
   "execution_count": null,
   "metadata": {},
   "outputs": [],
   "source": []
  },
  {
   "cell_type": "code",
   "execution_count": null,
   "metadata": {},
   "outputs": [],
   "source": []
  },
  {
   "cell_type": "markdown",
   "metadata": {},
   "source": [
    "## Exponential / Discounted"
   ]
  },
  {
   "cell_type": "markdown",
   "metadata": {},
   "source": [
    "The `statsmodels` package does not have true discounted least squares.  So we use their weighted least squares with a weight set derived from (nontrivial) exponential weights we have manually generated."
   ]
  },
  {
   "cell_type": "code",
   "execution_count": 12,
   "metadata": {
    "ExecuteTime": {
     "end_time": "2023-02-12T00:06:09.686535Z",
     "start_time": "2023-02-12T00:06:09.680137Z"
    }
   },
   "outputs": [
    {
     "name": "stdout",
     "output_type": "stream",
     "text": [
      "Lambda: 0.5612310241546865  -> Truncation threshold 7.407407407407407e-05\n"
     ]
    }
   ],
   "source": [
    "half_life = 1.2\n",
    "lma = 2**(-1./half_life)\n",
    "threshold = 1. / (design_mx.shape[0]* 500)\n",
    "print(f\"Lambda: {lma}  -> Truncation threshold {threshold}\")"
   ]
  },
  {
   "cell_type": "code",
   "execution_count": 13,
   "metadata": {
    "ExecuteTime": {
     "end_time": "2023-02-12T00:06:09.693473Z",
     "start_time": "2023-02-12T00:06:09.689182Z"
    }
   },
   "outputs": [
    {
     "name": "stdout",
     "output_type": "stream",
     "text": [
      "\n",
      "Full weight at start and finish:\n",
      "[3.00388586e-07 5.35231613e-07 5.61231024e-01 1.00000000e+00] N=27\n",
      "\n",
      "Truncated at start and finish:\n",
      "[9.68872712e-05 1.72633492e-04 5.61231024e-01 1.00000000e+00]  N=17\n",
      "\n"
     ]
    }
   ],
   "source": [
    "w12 = lma**np.arange(design_mx.shape[0]-1, -1, -1)\n",
    "\n",
    "# Cuts off weight values too small to care about, allowing use of naive routines without losing accuracy or having too many points\n",
    "exp_1p2_wts = w12[ w12 > threshold]\n",
    "print(f\"\"\"\n",
    "Full weight at start and finish:\\n{w12[[0,1, -2, -1]]} N={w12.shape[0]}\n",
    "\n",
    "Truncated at start and finish:\\n{exp_1p2_wts[[0,1, -2, -1]]}  N={exp_1p2_wts.shape[0]}\n",
    "\"\"\")\n"
   ]
  },
  {
   "cell_type": "markdown",
   "metadata": {},
   "source": [
    "We will say there are \"enough\" points to go ahead and regress if we have at least got all weights bigger than 1/20"
   ]
  },
  {
   "cell_type": "code",
   "execution_count": 14,
   "metadata": {
    "ExecuteTime": {
     "end_time": "2023-02-12T00:06:09.698844Z",
     "start_time": "2023-02-12T00:06:09.695404Z"
    }
   },
   "outputs": [
    {
     "data": {
      "text/plain": [
       "6"
      ]
     },
     "execution_count": 14,
     "metadata": {},
     "output_type": "execute_result"
    }
   ],
   "source": [
    "enough_points = np.where( w12 > 1./20 )[0].shape[0]\n",
    "enough_points"
   ]
  },
  {
   "cell_type": "code",
   "execution_count": 15,
   "metadata": {
    "ExecuteTime": {
     "end_time": "2023-02-12T00:06:09.751076Z",
     "start_time": "2023-02-12T00:06:09.700375Z"
    }
   },
   "outputs": [
    {
     "data": {
      "text/html": [
       "<div>\n",
       "<style scoped>\n",
       "    .dataframe tbody tr th:only-of-type {\n",
       "        vertical-align: middle;\n",
       "    }\n",
       "\n",
       "    .dataframe tbody tr th {\n",
       "        vertical-align: top;\n",
       "    }\n",
       "\n",
       "    .dataframe thead th {\n",
       "        text-align: right;\n",
       "    }\n",
       "</style>\n",
       "<table border=\"1\" class=\"dataframe\">\n",
       "  <thead>\n",
       "    <tr style=\"text-align: right;\">\n",
       "      <th></th>\n",
       "      <th>SPY</th>\n",
       "      <th>XOM</th>\n",
       "    </tr>\n",
       "  </thead>\n",
       "  <tbody>\n",
       "    <tr>\n",
       "      <th>2022-12-12</th>\n",
       "      <td>-3.222329</td>\n",
       "      <td>2.132432</td>\n",
       "    </tr>\n",
       "    <tr>\n",
       "      <th>2022-12-13</th>\n",
       "      <td>-1.763503</td>\n",
       "      <td>1.413680</td>\n",
       "    </tr>\n",
       "    <tr>\n",
       "      <th>2022-12-14</th>\n",
       "      <td>0.989619</td>\n",
       "      <td>-0.210738</td>\n",
       "    </tr>\n",
       "    <tr>\n",
       "      <th>2022-12-15</th>\n",
       "      <td>-0.256065</td>\n",
       "      <td>0.604255</td>\n",
       "    </tr>\n",
       "    <tr>\n",
       "      <th>2022-12-16</th>\n",
       "      <td>0.489067</td>\n",
       "      <td>0.209066</td>\n",
       "    </tr>\n",
       "    <tr>\n",
       "      <th>2022-12-19</th>\n",
       "      <td>1.202125</td>\n",
       "      <td>-1.022572</td>\n",
       "    </tr>\n",
       "  </tbody>\n",
       "</table>\n",
       "</div>"
      ],
      "text/plain": [
       "                 SPY       XOM\n",
       "2022-12-12 -3.222329  2.132432\n",
       "2022-12-13 -1.763503  1.413680\n",
       "2022-12-14  0.989619 -0.210738\n",
       "2022-12-15 -0.256065  0.604255\n",
       "2022-12-16  0.489067  0.209066\n",
       "2022-12-19  1.202125 -1.022572"
      ]
     },
     "execution_count": 15,
     "metadata": {},
     "output_type": "execute_result"
    }
   ],
   "source": [
    "import statsmodels.regression.linear_model as linreg\n",
    "\n",
    "def exp_1_2_reg(_df):\n",
    "    _n = min(exp_1p2_wts.shape[0], _df.shape[0])\n",
    "    _ldf = _df.iloc[-_n:]\n",
    "    _wt = exp_1p2_wts[-_n:]\n",
    "    _p = linreg.WLS(_ldf['SUN'], _ldf[['SPY', 'XOM']], weights=_wt).fit(params_only=True).params\n",
    "    return pd.DataFrame(data=[_p], index=[_df.index[-1]])\n",
    "\n",
    "exp_1_2_coeffs = pd.concat([exp_1_2_reg(design_mx.iloc[max(0,i-exp_1p2_wts.shape[0]):i]) for i in range(enough_points, design_mx.shape[0])])\n",
    "exp_1_2_coeffs.iloc[:6]"
   ]
  },
  {
   "cell_type": "markdown",
   "metadata": {},
   "source": [
    "### Checks"
   ]
  },
  {
   "cell_type": "markdown",
   "metadata": {},
   "source": [
    "Manually checking the first few, where we have somewhere between \"enough\" and the full complement of thresholded weights"
   ]
  },
  {
   "cell_type": "code",
   "execution_count": 16,
   "metadata": {
    "ExecuteTime": {
     "end_time": "2023-02-12T00:06:09.756289Z",
     "start_time": "2023-02-12T00:06:09.752526Z"
    }
   },
   "outputs": [
    {
     "data": {
      "text/plain": [
       "SPY   -1.763503\n",
       "XOM    1.413680\n",
       "Name: 2022-12-13 00:00:00, dtype: float64"
      ]
     },
     "execution_count": 16,
     "metadata": {},
     "output_type": "execute_result"
    }
   ],
   "source": [
    "exp_1_2_coeffs.loc[pd.Timestamp('2022-12-13')]"
   ]
  },
  {
   "cell_type": "code",
   "execution_count": 17,
   "metadata": {
    "ExecuteTime": {
     "end_time": "2023-02-12T00:06:09.765043Z",
     "start_time": "2023-02-12T00:06:09.758098Z"
    }
   },
   "outputs": [
    {
     "data": {
      "text/plain": [
       "SPY   -1.763503\n",
       "XOM    1.413680\n",
       "dtype: float64"
      ]
     },
     "execution_count": 17,
     "metadata": {},
     "output_type": "execute_result"
    }
   ],
   "source": [
    "first_few = design_mx.loc[:pd.Timestamp('2022-12-13')]\n",
    "linreg.WLS(\n",
    "    first_few['SUN'], \n",
    "    first_few[['SPY', 'XOM']], \n",
    "    weights=exp_1p2_wts[-first_few.shape[0]:]\n",
    ").fit(params_only=True).params"
   ]
  },
  {
   "cell_type": "markdown",
   "metadata": {},
   "source": [
    "We also check the fit quality in cases where our weight truncation has actually taken effect"
   ]
  },
  {
   "cell_type": "code",
   "execution_count": 18,
   "metadata": {
    "ExecuteTime": {
     "end_time": "2023-02-12T00:06:09.773118Z",
     "start_time": "2023-02-12T00:06:09.766653Z"
    }
   },
   "outputs": [
    {
     "data": {
      "text/html": [
       "<div>\n",
       "<style scoped>\n",
       "    .dataframe tbody tr th:only-of-type {\n",
       "        vertical-align: middle;\n",
       "    }\n",
       "\n",
       "    .dataframe tbody tr th {\n",
       "        vertical-align: top;\n",
       "    }\n",
       "\n",
       "    .dataframe thead th {\n",
       "        text-align: right;\n",
       "    }\n",
       "</style>\n",
       "<table border=\"1\" class=\"dataframe\">\n",
       "  <thead>\n",
       "    <tr style=\"text-align: right;\">\n",
       "      <th></th>\n",
       "      <th>SPY</th>\n",
       "      <th>XOM</th>\n",
       "    </tr>\n",
       "  </thead>\n",
       "  <tbody>\n",
       "    <tr>\n",
       "      <th>2023-01-06</th>\n",
       "      <td>0.118861</td>\n",
       "      <td>0.437270</td>\n",
       "    </tr>\n",
       "    <tr>\n",
       "      <th>2023-01-09</th>\n",
       "      <td>0.161510</td>\n",
       "      <td>0.266407</td>\n",
       "    </tr>\n",
       "    <tr>\n",
       "      <th>2023-01-10</th>\n",
       "      <td>0.236741</td>\n",
       "      <td>0.368750</td>\n",
       "    </tr>\n",
       "    <tr>\n",
       "      <th>2023-01-11</th>\n",
       "      <td>0.234911</td>\n",
       "      <td>0.368473</td>\n",
       "    </tr>\n",
       "  </tbody>\n",
       "</table>\n",
       "</div>"
      ],
      "text/plain": [
       "                 SPY       XOM\n",
       "2023-01-06  0.118861  0.437270\n",
       "2023-01-09  0.161510  0.266407\n",
       "2023-01-10  0.236741  0.368750\n",
       "2023-01-11  0.234911  0.368473"
      ]
     },
     "execution_count": 18,
     "metadata": {},
     "output_type": "execute_result"
    }
   ],
   "source": [
    "exp_1_2_coeffs.iloc[-4:]"
   ]
  },
  {
   "cell_type": "code",
   "execution_count": 19,
   "metadata": {
    "ExecuteTime": {
     "end_time": "2023-02-12T00:06:09.785004Z",
     "start_time": "2023-02-12T00:06:09.775373Z"
    }
   },
   "outputs": [
    {
     "data": {
      "text/plain": [
       "SPY    0.161507\n",
       "XOM    0.266405\n",
       "dtype: float64"
      ]
     },
     "execution_count": 19,
     "metadata": {},
     "output_type": "execute_result"
    }
   ],
   "source": [
    "many = design_mx.loc[:pd.Timestamp('2023-01-09')]\n",
    "linreg.WLS(\n",
    "    many['SUN'], \n",
    "    many[['SPY', 'XOM']], \n",
    "    weights=w12[-many.shape[0]:]\n",
    ").fit(params_only=True).params\n"
   ]
  },
  {
   "cell_type": "markdown",
   "metadata": {},
   "source": [
    "These are satisfyingly close"
   ]
  },
  {
   "cell_type": "code",
   "execution_count": null,
   "metadata": {},
   "outputs": [],
   "source": []
  }
 ],
 "metadata": {
  "kernelspec": {
   "display_name": "Python 3 (ipykernel)",
   "language": "python",
   "name": "python3"
  },
  "language_info": {
   "codemirror_mode": {
    "name": "ipython",
    "version": 3
   },
   "file_extension": ".py",
   "mimetype": "text/x-python",
   "name": "python",
   "nbconvert_exporter": "python",
   "pygments_lexer": "ipython3",
   "version": "3.10.8"
  }
 },
 "nbformat": 4,
 "nbformat_minor": 2
}
