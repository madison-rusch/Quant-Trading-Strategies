{
 "cells": [
  {
   "cell_type": "code",
   "execution_count": 33,
   "metadata": {},
   "outputs": [],
   "source": [
    "import matplotlib.pyplot as plt\n",
    "import pandas as pd\n",
    "import numpy as np\n",
    "import scipy as sp\n",
    "import quandl\n",
    "import functools\n",
    "import seaborn as sns\n",
    "import plotnine as p9\n",
    "from datetime import datetime\n",
    "from datetime import timedelta\n",
    "from tqdm import tqdm\n",
    "\n",
    "\n",
    "import warnings\n",
    "\n",
    "# Suppress the warning\n",
    "warnings.filterwarnings(\"ignore\")"
   ]
  },
  {
   "cell_type": "code",
   "execution_count": 42,
   "metadata": {},
   "outputs": [],
   "source": [
    "debt_to_equity = pd.read_csv('/Users/tmac/Desktop/Quant-Trading-Strategies/debt_to_equity.csv')\n",
    "eps = pd.read_csv('/Users/tmac/Desktop/Quant-Trading-Strategies/eps.csv')\n",
    "eod_prices = pd.read_csv('/Users/tmac/Desktop/Quant-Trading-Strategies/final_eod_price_data.csv')\n",
    "debt = pd.read_csv('/Users/tmac/Desktop/Quant-Trading-Strategies/lt_debt.csv')\n",
    "roi = pd.read_csv('/Users/tmac/Desktop/Quant-Trading-Strategies/roi.csv')\n",
    "shares = pd.read_csv('/Users/tmac/Desktop/Quant-Trading-Strategies/shares.csv')"
   ]
  },
  {
   "cell_type": "code",
   "execution_count": 43,
   "metadata": {},
   "outputs": [],
   "source": [
    "df_list = [debt_to_equity, eps, eod_prices, debt, roi, shares]\n",
    "drop_cols = []\n",
    "\n",
    "for df in df_list:\n",
    "    mask = df.isna().any()\n",
    "    drop_cols.extend(mask.index[mask].tolist())\n",
    "drop_cols = list(set(drop_cols))\n",
    "for df in df_list:\n",
    "    df.drop(columns=drop_cols, inplace=True)\n",
    "\n",
    "debt_to_equity = df_list.pop(0)\n",
    "eps = df_list.pop(0)\n",
    "eod_prices = df_list.pop(0)\n",
    "debt = df_list.pop(0)\n",
    "roi = df_list.pop(0)\n",
    "shares = df_list.pop(0)"
   ]
  }
 ],
 "metadata": {
  "kernelspec": {
   "display_name": "Python 3",
   "language": "python",
   "name": "python3"
  },
  "language_info": {
   "codemirror_mode": {
    "name": "ipython",
    "version": 3
   },
   "file_extension": ".py",
   "mimetype": "text/x-python",
   "name": "python",
   "nbconvert_exporter": "python",
   "pygments_lexer": "ipython3",
   "version": "3.9.5"
  },
  "orig_nbformat": 4,
  "vscode": {
   "interpreter": {
    "hash": "aee8b7b246df8f9039afb4144a1f6fd8d2ca17a180786b69acc140d282b71a49"
   }
  }
 },
 "nbformat": 4,
 "nbformat_minor": 2
}
