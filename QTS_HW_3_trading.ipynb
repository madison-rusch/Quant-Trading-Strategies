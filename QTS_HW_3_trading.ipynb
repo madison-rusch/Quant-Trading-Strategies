{
 "cells": [
  {
   "cell_type": "code",
   "execution_count": 1,
   "metadata": {},
   "outputs": [],
   "source": [
    "import matplotlib.pyplot as plt\n",
    "import pandas as pd\n",
    "import numpy as np\n",
    "import scipy as sp\n",
    "import quandl\n",
    "import functools\n",
    "import seaborn as sns\n",
    "import plotnine as p9\n",
    "from datetime import datetime\n",
    "from datetime import timedelta\n",
    "from tqdm import tqdm\n",
    "import pandas_market_calendars as mcal\n",
    "\n",
    "import warnings\n",
    "\n",
    "# Suppress the warning\n",
    "warnings.filterwarnings(\"ignore\")"
   ]
  },
  {
   "cell_type": "code",
   "execution_count": 31,
   "metadata": {},
   "outputs": [],
   "source": [
    "# data = pd.read_csv('C:/Users/thoma/OneDrive/Documents/QTS/Quant-Trading-Strategies/hw_3_ratio_data.csv')\n",
    "data = pd.read_csv('/Users/tmac/Desktop/Quant-Trading-Strategies/Quant-Trading-Strategies/hw_3_ratio_data.csv')\n",
    "data['date'] = pd.to_datetime(data['date'])\n",
    "data = data.set_index('ticker')\n",
    "data['neg_price_per_earnings'] = data['price_to_earnings']*(-1)"
   ]
  },
  {
   "cell_type": "code",
   "execution_count": 32,
   "metadata": {},
   "outputs": [],
   "source": [
    "total_ticks = len(data.index.unique())"
   ]
  },
  {
   "cell_type": "code",
   "execution_count": 33,
   "metadata": {},
   "outputs": [],
   "source": [
    "# libor = pd.read_csv(\"C:/Users/thoma/Downloads/3-month-libor-rate-historical-chart.csv\")\n",
    "libor = pd.read_csv('/Users/tmac/Downloads/3-month-libor-rate-historical-chart.csv')"
   ]
  },
  {
   "cell_type": "code",
   "execution_count": 34,
   "metadata": {},
   "outputs": [],
   "source": [
    "libor['date'] = pd.to_datetime(libor['date'])\n",
    "libor = libor.set_index('date')\n",
    "libor = libor.loc[libor.index >= pd.to_datetime('2015-01-01')]\n",
    "date_range = pd.date_range(start='2015-01-01', end='2022-01-31')\n",
    "libor = libor.reindex(date_range).ffill()\n",
    "libor['repo'] = libor[' value'] - 1\n"
   ]
  },
  {
   "cell_type": "code",
   "execution_count": 35,
   "metadata": {},
   "outputs": [],
   "source": [
    "data = data.reset_index()\n",
    "data = data.set_index('date')\n",
    "start_date = pd.to_datetime('2015-01-01')\n",
    "data = data.loc[data.index >= start_date]\n",
    "end_date = pd.to_datetime('2022-01-31')\n",
    "data = data.loc[data.index <= end_date]\n",
    "data = data.sort_index()\n",
    "dates = data.index.unique()"
   ]
  },
  {
   "cell_type": "code",
   "execution_count": 36,
   "metadata": {},
   "outputs": [],
   "source": [
    "def quantile_trading(financial_ratio, quantile_long, quantile_short, initial_k):\n",
    "    final = pd.DataFrame(columns = ['date', 'pnl_by_date', 'total_pnl'])\n",
    "    final.loc[0] = [pd.to_datetime('2015-01-04'), 0, 0]\n",
    "    pnl = 0\n",
    "    k = initial_k\n",
    "    for i, day in enumerate(dates):\n",
    "        day = day.normalize()\n",
    "        day = day.tz_localize(None)\n",
    "        if day == pd.to_datetime('2022-01-31'):\n",
    "            #final close out of position\n",
    "            #long\n",
    "            df = data.loc[day]\n",
    "            df = df.set_index('ticker')\n",
    "            df = df.loc[ticks_long]\n",
    "            df =df.join(push_long)\n",
    "            df['val'] = df['price']*df['shares']\n",
    "            curr_value_long = df['val'].sum()\n",
    "            pnl_today = curr_value_long - initial_long_value\n",
    "\n",
    "            #short\n",
    "            df = data.loc[day]\n",
    "            df = df.set_index('ticker')\n",
    "            df = df.loc[ticks_short]\n",
    "            df = df.join(push_short)\n",
    "            df['val'] = df['price']*df['shares']\n",
    "            curr_value_short = df['val'].sum()\n",
    "            pnl_today += initial_short_value - curr_value_short + (initial_short_value*libor_td/365)\n",
    "\n",
    "            k += pnl_today\n",
    "            pnl+=pnl_today\n",
    "           \n",
    "            final.loc[len(final)] = [day, pnl_today, pnl]\n",
    "\n",
    "        elif i == 0 or (day.month != dates[i-1].month and dates[i-1].day > 20):\n",
    "            # long\n",
    "            df = data.loc[day]\n",
    "            top_ten_percent = df[df[financial_ratio] >= df[financial_ratio].quantile(quantile_long)]\n",
    "            top_ten_percent = top_ten_percent.set_index('ticker')\n",
    "            initial_long_value = k/20\n",
    "            position_per_asset_long = initial_long_value/len(top_ten_percent.index)\n",
    "            ticks_long = top_ten_percent.index.unique().to_list()\n",
    "            top_ten_percent['shares'] = position_per_asset_long/top_ten_percent['price']\n",
    "            push_long = top_ten_percent['shares']\n",
    "            \n",
    "            #short\n",
    "            df = data.loc[day]\n",
    "            bottom_ten_percent = df[df[financial_ratio] <= df[financial_ratio].quantile(quantile_short)]\n",
    "            bottom_ten_percent = bottom_ten_percent.set_index('ticker')\n",
    "            initial_short_value = k/20\n",
    "            position_per_asset_short = initial_short_value/len(bottom_ten_percent.index)\n",
    "            ticks_short = bottom_ten_percent.index.unique().to_list()\n",
    "            bottom_ten_percent['shares'] = position_per_asset_short/bottom_ten_percent['price']\n",
    "            push_short = bottom_ten_percent['shares']\n",
    "\n",
    "            #repo rate\n",
    "            libor_td = libor.loc[day]['repo']\n",
    "\n",
    "        elif day.month != dates[i+1].month:\n",
    "            #long\n",
    "            df = data.loc[day]\n",
    "            df = df.set_index('ticker')\n",
    "            df = df.loc[ticks_long]\n",
    "            df =df.join(push_long)\n",
    "            df['val'] = df['price']*df['shares']\n",
    "            curr_value_long = df['val'].sum()\n",
    "            pnl_today = curr_value_long - initial_long_value \n",
    "\n",
    "            #short\n",
    "            df = data.loc[day]\n",
    "            df = df.set_index('ticker')\n",
    "            df = df.loc[ticks_short]\n",
    "            df = df.join(push_short)\n",
    "            df['val'] = df['price']*df['shares']\n",
    "            curr_value_short = df['val'].sum()\n",
    "            pnl_today += initial_short_value - curr_value_short  + (initial_short_value*libor_td/365)\n",
    "\n",
    "            k += pnl_today\n",
    "            pnl+=pnl_today\n",
    "            \n",
    "\n",
    "            final.loc[len(final)] = [day, pnl_today, pnl]\n",
    "    \n",
    "            pnl_today += initial_short_value - curr_value_short \n",
    "    \n",
    "    return final\n",
    "\n",
    "        \n",
    "  "
   ]
  },
  {
   "attachments": {},
   "cell_type": "markdown",
   "metadata": {},
   "source": [
    "Optimize based on quantiles for debt to market cap"
   ]
  },
  {
   "cell_type": "code",
   "execution_count": 205,
   "metadata": {},
   "outputs": [
    {
     "name": "stderr",
     "output_type": "stream",
     "text": [
      "100%|██████████| 19/19 [02:14<00:00,  7.09s/it]\n"
     ]
    },
    {
     "data": {
      "text/plain": [
       "('debt_to_market_cap', 0.91, 0.15, 1000000)"
      ]
     },
     "execution_count": 205,
     "metadata": {},
     "output_type": "execute_result"
    }
   ],
   "source": [
    "d = -1000000000\n",
    "for i in tqdm(range(80,99)):\n",
    "    for j in range(1,20):\n",
    "        x = quantile_trading('debt_to_market_cap', i/100, j/200, 1000000)\n",
    "        if x.iloc[-1]['total_pnl'] > d:\n",
    "            d = x.iloc[-1]['total_pnl']\n",
    "            params = ('debt_to_market_cap', i/100, j/100, 1000000)\n",
    "params"
   ]
  },
  {
   "cell_type": "code",
   "execution_count": 37,
   "metadata": {},
   "outputs": [],
   "source": [
    "debt_t_m = quantile_trading('debt_to_market_cap', .91, .15, 1000000)"
   ]
  },
  {
   "attachments": {},
   "cell_type": "markdown",
   "metadata": {},
   "source": [
    "Optimize based on quantiles for return on equity"
   ]
  },
  {
   "cell_type": "code",
   "execution_count": 240,
   "metadata": {},
   "outputs": [
    {
     "name": "stderr",
     "output_type": "stream",
     "text": [
      "100%|██████████| 29/29 [05:11<00:00, 10.76s/it]\n"
     ]
    },
    {
     "data": {
      "text/plain": [
       "('ROI', 0.98, 0.29, 1000000)"
      ]
     },
     "execution_count": 240,
     "metadata": {},
     "output_type": "execute_result"
    }
   ],
   "source": [
    "d = -1000000000\n",
    "for i in tqdm(range(70,99)):\n",
    "    for j in range(1,30):\n",
    "        x = quantile_trading('ROI', i/100, j/200, 1000000)\n",
    "        if x.iloc[-1]['total_pnl'] > d:\n",
    "            d = x.iloc[-1]['total_pnl']\n",
    "            params = ('ROI', i/100, j/100, 1000000)\n",
    "params"
   ]
  },
  {
   "cell_type": "code",
   "execution_count": 38,
   "metadata": {},
   "outputs": [],
   "source": [
    "roi = quantile_trading('ROI', .98, .29, 1000000)"
   ]
  },
  {
   "attachments": {},
   "cell_type": "markdown",
   "metadata": {},
   "source": [
    "optimize based on quantiles for price to earnings"
   ]
  },
  {
   "cell_type": "code",
   "execution_count": 209,
   "metadata": {},
   "outputs": [
    {
     "name": "stderr",
     "output_type": "stream",
     "text": [
      "100%|██████████| 19/19 [02:12<00:00,  6.99s/it]\n"
     ]
    },
    {
     "data": {
      "text/plain": [
       "('ROI', 0.81, 0.01, 1000000)"
      ]
     },
     "execution_count": 209,
     "metadata": {},
     "output_type": "execute_result"
    }
   ],
   "source": [
    "d = -1000000000\n",
    "for i in tqdm(range(80,99)):\n",
    "    for j in range(1,20):\n",
    "        x = quantile_trading('price_to_earnings', i/100, j/200, 1000000)\n",
    "        if x.iloc[-1]['total_pnl'] > d:\n",
    "            d = x.iloc[-1]['total_pnl']\n",
    "            params = ('ROI', i/100, j/100, 1000000)\n",
    "params"
   ]
  },
  {
   "cell_type": "code",
   "execution_count": 39,
   "metadata": {},
   "outputs": [],
   "source": [
    "price_to_earnings = quantile_trading('price_to_earnings', .81, .01, 1000000)"
   ]
  },
  {
   "cell_type": "code",
   "execution_count": 40,
   "metadata": {},
   "outputs": [
    {
     "data": {
      "text/plain": [
       "[<matplotlib.lines.Line2D at 0x7f8ac39f8550>]"
      ]
     },
     "execution_count": 40,
     "metadata": {},
     "output_type": "execute_result"
    },
    {
     "data": {
      "image/png": "[encoded data removed]",
      "text/plain": [
       "<Figure size 640x480 with 1 Axes>"
      ]
     },
     "metadata": {},
     "output_type": "display_data"
    }
   ],
   "source": [
    "plt.plot(roi['total_pnl'])\n",
    "plt.plot(debt_t_m['total_pnl'])\n",
    "plt.plot(price_to_earnings['total_pnl'])"
   ]
  },
  {
   "cell_type": "markdown",
   "metadata": {},
   "source": []
  }
 ],
 "metadata": {
  "kernelspec": {
   "display_name": "Python 3",
   "language": "python",
   "name": "python3"
  },
  "language_info": {
   "codemirror_mode": {
    "name": "ipython",
    "version": 3
   },
   "file_extension": ".py",
   "mimetype": "text/x-python",
   "name": "python",
   "nbconvert_exporter": "python",
   "pygments_lexer": "ipython3",
   "version": "3.9.5"
  },
  "orig_nbformat": 4,
  "vscode": {
   "interpreter": {
    "hash": "aee8b7b246df8f9039afb4144a1f6fd8d2ca17a180786b69acc140d282b71a49"
   }
  }
 },
 "nbformat": 4,
 "nbformat_minor": 2
}
