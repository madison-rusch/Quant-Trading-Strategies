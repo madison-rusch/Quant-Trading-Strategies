{
 "cells": [
  {
   "cell_type": "code",
   "execution_count": 66,
   "metadata": {},
   "outputs": [],
   "source": [
    "import matplotlib.pyplot as plt\n",
    "import pandas as pd\n",
    "import numpy as np\n",
    "import scipy as sp\n",
    "import quandl\n",
    "import functools\n",
    "import seaborn as sns\n",
    "import plotnine as p9\n",
    "from datetime import datetime\n",
    "from datetime import timedelta\n",
    "from tqdm import tqdm\n",
    "\n",
    "\n",
    "import warnings\n",
    "\n",
    "# Suppress the warning\n",
    "warnings.filterwarnings(\"ignore\")"
   ]
  },
  {
   "cell_type": "code",
   "execution_count": 67,
   "metadata": {},
   "outputs": [],
   "source": [
    "debt_to_equity = pd.read_csv('/Users/tmac/Desktop/Quant-Trading-Strategies/debt_to_equity.csv')\n",
    "eps = pd.read_csv('/Users/tmac/Desktop/Quant-Trading-Strategies/eps.csv')\n",
    "eod_prices = pd.read_csv('/Users/tmac/Desktop/Quant-Trading-Strategies/final_eod_price_data.csv')\n",
    "debt = pd.read_csv('/Users/tmac/Desktop/Quant-Trading-Strategies/lt_debt.csv')\n",
    "roi = pd.read_csv('/Users/tmac/Desktop/Quant-Trading-Strategies/roi.csv')\n",
    "shares = pd.read_csv('/Users/tmac/Desktop/Quant-Trading-Strategies/shares.csv')"
   ]
  },
  {
   "cell_type": "code",
   "execution_count": 68,
   "metadata": {},
   "outputs": [],
   "source": [
    "df_list = [debt_to_equity, eps, eod_prices, debt, roi, shares]\n",
    "drop_cols = []\n",
    "\n",
    "for df in df_list:\n",
    "    mask = df.isna().any()\n",
    "    drop_cols.extend(mask.index[mask].tolist())\n",
    "drop_cols = list(set(drop_cols))\n",
    "for df in df_list:\n",
    "    df.drop(columns=drop_cols, inplace=True)\n",
    "\n",
    "debt_to_equity = df_list.pop(0)\n",
    "eps = df_list.pop(0)\n",
    "eod_prices = df_list.pop(0)\n",
    "debt = df_list.pop(0)\n",
    "roi = df_list.pop(0)\n",
    "shares = df_list.pop(0)"
   ]
  },
  {
   "cell_type": "code",
   "execution_count": 69,
   "metadata": {},
   "outputs": [],
   "source": [
    "eod_prices = eod_prices.rename(columns = {'date' : 'filing_date'})"
   ]
  },
  {
   "cell_type": "code",
   "execution_count": 70,
   "metadata": {},
   "outputs": [],
   "source": [
    "debt_to_equity = debt_to_equity.set_index('filing_date')\n",
    "shares = shares.set_index('filing_date')\n",
    "eps = eps.set_index('filing_date')\n",
    "roi = roi.set_index('filing_date')\n",
    "eod_prices = eod_prices.set_index('filing_date')\n",
    "debt = debt.set_index('filing_date')\n",
    "eps = eps.clip(lower=0.001)"
   ]
  },
  {
   "cell_type": "code",
   "execution_count": 71,
   "metadata": {},
   "outputs": [],
   "source": [
    "shares = shares.div(1000000)"
   ]
  },
  {
   "cell_type": "code",
   "execution_count": 81,
   "metadata": {},
   "outputs": [],
   "source": [
    "n = debt_to_equity[['LLY']]"
   ]
  },
  {
   "cell_type": "code",
   "execution_count": 82,
   "metadata": {},
   "outputs": [],
   "source": [
    "p = eod_prices[['LLY']]"
   ]
  },
  {
   "cell_type": "code",
   "execution_count": 83,
   "metadata": {},
   "outputs": [],
   "source": [
    "e = eps[['LLY']]"
   ]
  }
 ],
 "metadata": {
  "kernelspec": {
   "display_name": "Python 3",
   "language": "python",
   "name": "python3"
  },
  "language_info": {
   "codemirror_mode": {
    "name": "ipython",
    "version": 3
   },
   "file_extension": ".py",
   "mimetype": "text/x-python",
   "name": "python",
   "nbconvert_exporter": "python",
   "pygments_lexer": "ipython3",
   "version": "3.9.5 (v3.9.5:0a7dcbdb13, May  3 2021, 13:17:02) \n[Clang 6.0 (clang-600.0.57)]"
  },
  "orig_nbformat": 4,
  "vscode": {
   "interpreter": {
    "hash": "aee8b7b246df8f9039afb4144a1f6fd8d2ca17a180786b69acc140d282b71a49"
   }
  }
 },
 "nbformat": 4,
 "nbformat_minor": 2
}
